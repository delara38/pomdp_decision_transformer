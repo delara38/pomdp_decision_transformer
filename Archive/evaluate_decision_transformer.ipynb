{
 "cells": [
  {
   "cell_type": "code",
   "execution_count": 2,
   "metadata": {},
   "outputs": [
    {
     "name": "stderr",
     "output_type": "stream",
     "text": [
      "/Users/nathandelara/mcgill/u2/comp597-rl/final_project/fin_proj2/venv/lib/python3.8/site-packages/tqdm/auto.py:21: TqdmWarning: IProgress not found. Please update jupyter and ipywidgets. See https://ipywidgets.readthedocs.io/en/stable/user_install.html\n",
      "  from .autonotebook import tqdm as notebook_tqdm\n"
     ]
    }
   ],
   "source": [
    "from d3rlpy.dataset import Transition\n",
    "from d3rlpy.algos import DiscreteCQL, DoubleDQN, DiscreteBC\n",
    "\n",
    "import pickle\n",
    "\n",
    "import torch\n",
    "from torch import nn, Tensor\n",
    "from torch.distributions import Categorical\n",
    "\n",
    "import numpy as np\n",
    "import pandas as pd\n",
    "\n",
    "import gymnasium as gym\n",
    "\n",
    "from tqdm import tqdm\n",
    "\n",
    "import matplotlib.pyplot as plt\n",
    "import seaborn as sns\n",
    "\n",
    "from collections import deque, namedtuple\n",
    "import random\n",
    "from copy import deepcopy"
   ]
  },
  {
   "cell_type": "code",
   "execution_count": 3,
   "metadata": {},
   "outputs": [],
   "source": [
    "seed=1\n",
    "Experience = namedtuple(\"Experience\",field_names=['state','action','reward','next_state','done'])        \n",
    "\n",
    "\n",
    "class ReplayBuffer():\n",
    "\n",
    "    \n",
    "\n",
    "    def __init__(self, action_size, buffer_size, batch_size,seed=seed):\n",
    "\n",
    "\n",
    "        self.action_size = action_size\n",
    "        self.memory = deque(maxlen=buffer_size)\n",
    "        self.batch_size = batch_size\n",
    "        \n",
    "        self.seed = random.seed(seed)\n",
    "    def add(self, *args):\n",
    "        self.memory.append(Experience(*args))\n",
    "    \n",
    "    def index(self, idx):\n",
    "        return self.memory[idx]\n",
    "\n",
    "    def sample_indexes(self, indexes):\n",
    "        l = []\n",
    "        for i in indexes:\n",
    "              l.append(self.index(i))\n",
    "        \n",
    "        l = Experience(*zip(*l))\n",
    "        return l\n",
    "\n",
    "    def sample(self):\n",
    "\n",
    "        experiences = random.sample(self.memory, self.batch_size)\n",
    "        return experiences\n",
    "    \n",
    "    def __len__(self):\n",
    "        return len(self.memory)\n",
    "    \n",
    "    def get_mem(self):\n",
    "         return self.memory\n",
    "\n",
    "    def append(self, x):\n",
    "         self.memory += x.get_mem()\n",
    "\n",
    "    def cut(self, k):\n",
    "        self.memory = random.sample( self.memory, k)\n"
   ]
  },
  {
   "cell_type": "code",
   "execution_count": 4,
   "metadata": {},
   "outputs": [],
   "source": [
    "def to_transition(x):\n",
    "\n",
    "\n",
    "    state = x.state[-1]\n",
    "    action = x.action[-1]\n",
    "    state_prime =  x.next_state\n",
    "    reward = x.reward[-1]\n",
    "    terminal = x.done\n",
    "\n",
    "\n",
    "    tr = Transition([2],2, np.array(state), action, reward, np.array(state_prime), terminal)\n",
    "\n",
    "    return tr"
   ]
  },
  {
   "cell_type": "code",
   "execution_count": 5,
   "metadata": {},
   "outputs": [],
   "source": [
    "data = pickle.load(open('cql_data_buffer.pkl','rb'))"
   ]
  },
  {
   "cell_type": "code",
   "execution_count": 6,
   "metadata": {},
   "outputs": [],
   "source": [
    "d2 = pickle.load(open('cql_data_fully_observing_buffer.pkl','rb'))\n",
    "d2.cut(len(data))"
   ]
  },
  {
   "cell_type": "code",
   "execution_count": 7,
   "metadata": {},
   "outputs": [],
   "source": [
    "\n",
    "\n",
    "def train_cql(mem):\n",
    "\n",
    "\n",
    "\n",
    "    trans = [to_transition(x) for x in mem]\n",
    "\n",
    "\n",
    "    cql = DiscreteCQL()\n",
    "    cql.fit(trans, n_epochs=10)\n",
    "\n",
    "    return cql\n",
    "\n",
    "def train_ddqn(mem):\n",
    "\n",
    "\n",
    "\n",
    "    trans = [to_transition(x) for x in mem]\n",
    "\n",
    "\n",
    "    ddqn = DoubleDQN()\n",
    "    ddqn.fit(trans, n_epochs=10)\n",
    "\n",
    "    return ddqn\n",
    "\n"
   ]
  },
  {
   "cell_type": "code",
   "execution_count": 8,
   "metadata": {},
   "outputs": [],
   "source": [
    "\n",
    "def train_bc(mem):\n",
    "\n",
    "\n",
    "\n",
    "    trans = [to_transition(x) for x in mem]\n",
    "\n",
    "\n",
    "    dbc = DiscreteBC(learning_rate=1e-4)\n",
    "    dbc.fit(trans, n_epochs=10)\n",
    "\n",
    "    return dbc"
   ]
  },
  {
   "cell_type": "code",
   "execution_count": 9,
   "metadata": {},
   "outputs": [],
   "source": [
    "mem = list(data.get_mem())\n",
    "mem2 = list(d2.get_mem())\n",
    "\n",
    "mm2 = mem[:int(len(data)/2)] + mem2[:int(len(mem2)/2)]"
   ]
  },
  {
   "cell_type": "code",
   "execution_count": 10,
   "metadata": {},
   "outputs": [
    {
     "name": "stdout",
     "output_type": "stream",
     "text": [
      "\u001b[2m2023-04-29 14:30:30\u001b[0m [\u001b[32m\u001b[1mdebug    \u001b[0m] \u001b[1mRoundIterator is selected.\u001b[0m\n",
      "\u001b[2m2023-04-29 14:30:30\u001b[0m [\u001b[32m\u001b[1minfo     \u001b[0m] \u001b[1mDirectory is created at d3rlpy_logs/DiscreteCQL_20230429143030\u001b[0m\n",
      "\u001b[2m2023-04-29 14:30:30\u001b[0m [\u001b[32m\u001b[1mdebug    \u001b[0m] \u001b[1mBuilding models...\u001b[0m\n",
      "\u001b[2m2023-04-29 14:30:30\u001b[0m [\u001b[32m\u001b[1mdebug    \u001b[0m] \u001b[1mModels have been built.\u001b[0m\n",
      "\u001b[2m2023-04-29 14:30:30\u001b[0m [\u001b[32m\u001b[1minfo     \u001b[0m] \u001b[1mParameters are saved to d3rlpy_logs/DiscreteCQL_20230429143030/params.json\u001b[0m \u001b[36mparams\u001b[0m=\u001b[35m{'action_scaler': None, 'alpha': 1.0, 'batch_size': 32, 'encoder_factory': {'type': 'default', 'params': {'activation': 'relu', 'use_batch_norm': False, 'dropout_rate': None}}, 'gamma': 0.99, 'generated_maxlen': 100000, 'learning_rate': 6.25e-05, 'n_critics': 1, 'n_frames': 1, 'n_steps': 1, 'optim_factory': {'optim_cls': 'Adam', 'betas': (0.9, 0.999), 'eps': 1e-08, 'weight_decay': 0, 'amsgrad': False}, 'q_func_factory': {'type': 'mean', 'params': {'share_encoder': False}}, 'real_ratio': 1.0, 'reward_scaler': None, 'scaler': None, 'target_update_interval': 8000, 'use_gpu': None, 'algorithm': 'DiscreteCQL', 'observation_shape': (2,), 'action_size': 2}\u001b[0m\n"
     ]
    },
    {
     "name": "stderr",
     "output_type": "stream",
     "text": [
      "Epoch 1/10: 100%|██████████| 31030/31030 [02:07<00:00, 242.79it/s, loss=0.196]\n"
     ]
    },
    {
     "name": "stdout",
     "output_type": "stream",
     "text": [
      "\u001b[2m2023-04-29 14:32:38\u001b[0m [\u001b[32m\u001b[1minfo     \u001b[0m] \u001b[1mDiscreteCQL_20230429143030: epoch=1 step=31030\u001b[0m \u001b[36mepoch\u001b[0m=\u001b[35m1\u001b[0m \u001b[36mmetrics\u001b[0m=\u001b[35m{'time_sample_batch': 0.00011442812496410276, 'time_algorithm_update': 0.003660439937836195, 'loss': 0.19594428588438428, 'time_step': 0.004070465348821819}\u001b[0m \u001b[36mstep\u001b[0m=\u001b[35m31030\u001b[0m\n",
      "\u001b[2m2023-04-29 14:32:38\u001b[0m [\u001b[32m\u001b[1minfo     \u001b[0m] \u001b[1mModel parameters are saved to d3rlpy_logs/DiscreteCQL_20230429143030/model_31030.pt\u001b[0m\n"
     ]
    },
    {
     "name": "stderr",
     "output_type": "stream",
     "text": [
      "Epoch 2/10: 100%|██████████| 31030/31030 [02:05<00:00, 246.58it/s, loss=0.177]\n"
     ]
    },
    {
     "name": "stdout",
     "output_type": "stream",
     "text": [
      "\u001b[2m2023-04-29 14:34:44\u001b[0m [\u001b[32m\u001b[1minfo     \u001b[0m] \u001b[1mDiscreteCQL_20230429143030: epoch=2 step=62060\u001b[0m \u001b[36mepoch\u001b[0m=\u001b[35m2\u001b[0m \u001b[36mmetrics\u001b[0m=\u001b[35m{'time_sample_batch': 0.0001041029639064286, 'time_algorithm_update': 0.003599894404065559, 'loss': 0.17699209821611267, 'time_step': 0.004007663474788291}\u001b[0m \u001b[36mstep\u001b[0m=\u001b[35m62060\u001b[0m\n",
      "\u001b[2m2023-04-29 14:34:44\u001b[0m [\u001b[32m\u001b[1minfo     \u001b[0m] \u001b[1mModel parameters are saved to d3rlpy_logs/DiscreteCQL_20230429143030/model_62060.pt\u001b[0m\n"
     ]
    },
    {
     "name": "stderr",
     "output_type": "stream",
     "text": [
      "Epoch 3/10: 100%|██████████| 31030/31030 [02:07<00:00, 243.19it/s, loss=0.274]\n"
     ]
    },
    {
     "name": "stdout",
     "output_type": "stream",
     "text": [
      "\u001b[2m2023-04-29 14:36:51\u001b[0m [\u001b[32m\u001b[1minfo     \u001b[0m] \u001b[1mDiscreteCQL_20230429143030: epoch=3 step=93090\u001b[0m \u001b[36mepoch\u001b[0m=\u001b[35m3\u001b[0m \u001b[36mmetrics\u001b[0m=\u001b[35m{'time_sample_batch': 9.965218154607264e-05, 'time_algorithm_update': 0.0036467179074965096, 'loss': 0.27408850738767304, 'time_step': 0.004063227251196077}\u001b[0m \u001b[36mstep\u001b[0m=\u001b[35m93090\u001b[0m\n",
      "\u001b[2m2023-04-29 14:36:52\u001b[0m [\u001b[32m\u001b[1minfo     \u001b[0m] \u001b[1mModel parameters are saved to d3rlpy_logs/DiscreteCQL_20230429143030/model_93090.pt\u001b[0m\n"
     ]
    },
    {
     "name": "stderr",
     "output_type": "stream",
     "text": [
      "Epoch 4/10: 100%|██████████| 31030/31030 [02:06<00:00, 245.73it/s, loss=0.39] \n"
     ]
    },
    {
     "name": "stdout",
     "output_type": "stream",
     "text": [
      "\u001b[2m2023-04-29 14:38:58\u001b[0m [\u001b[32m\u001b[1minfo     \u001b[0m] \u001b[1mDiscreteCQL_20230429143030: epoch=4 step=124120\u001b[0m \u001b[36mepoch\u001b[0m=\u001b[35m4\u001b[0m \u001b[36mmetrics\u001b[0m=\u001b[35m{'time_sample_batch': 9.929507615448696e-05, 'time_algorithm_update': 0.0036010377990250584, 'loss': 0.3896386026594184, 'time_step': 0.004021744224051679}\u001b[0m \u001b[36mstep\u001b[0m=\u001b[35m124120\u001b[0m\n",
      "\u001b[2m2023-04-29 14:38:58\u001b[0m [\u001b[32m\u001b[1minfo     \u001b[0m] \u001b[1mModel parameters are saved to d3rlpy_logs/DiscreteCQL_20230429143030/model_124120.pt\u001b[0m\n"
     ]
    },
    {
     "name": "stderr",
     "output_type": "stream",
     "text": [
      "Epoch 5/10: 100%|██████████| 31030/31030 [02:07<00:00, 243.60it/s, loss=0.511]\n"
     ]
    },
    {
     "name": "stdout",
     "output_type": "stream",
     "text": [
      "\u001b[2m2023-04-29 14:41:05\u001b[0m [\u001b[32m\u001b[1minfo     \u001b[0m] \u001b[1mDiscreteCQL_20230429143030: epoch=5 step=155150\u001b[0m \u001b[36mepoch\u001b[0m=\u001b[35m5\u001b[0m \u001b[36mmetrics\u001b[0m=\u001b[35m{'time_sample_batch': 9.869833050948207e-05, 'time_algorithm_update': 0.003635568008705604, 'loss': 0.5107126412886192, 'time_step': 0.004056896688551662}\u001b[0m \u001b[36mstep\u001b[0m=\u001b[35m155150\u001b[0m\n",
      "\u001b[2m2023-04-29 14:41:05\u001b[0m [\u001b[32m\u001b[1minfo     \u001b[0m] \u001b[1mModel parameters are saved to d3rlpy_logs/DiscreteCQL_20230429143030/model_155150.pt\u001b[0m\n"
     ]
    },
    {
     "name": "stderr",
     "output_type": "stream",
     "text": [
      "Epoch 6/10: 100%|██████████| 31030/31030 [02:07<00:00, 243.82it/s, loss=0.591]\n"
     ]
    },
    {
     "name": "stdout",
     "output_type": "stream",
     "text": [
      "\u001b[2m2023-04-29 14:43:13\u001b[0m [\u001b[32m\u001b[1minfo     \u001b[0m] \u001b[1mDiscreteCQL_20230429143030: epoch=6 step=186180\u001b[0m \u001b[36mepoch\u001b[0m=\u001b[35m6\u001b[0m \u001b[36mmetrics\u001b[0m=\u001b[35m{'time_sample_batch': 9.824668750277343e-05, 'time_algorithm_update': 0.003632856982775438, 'loss': 0.5914796540857591, 'time_step': 0.004053156021676292}\u001b[0m \u001b[36mstep\u001b[0m=\u001b[35m186180\u001b[0m\n",
      "\u001b[2m2023-04-29 14:43:13\u001b[0m [\u001b[32m\u001b[1minfo     \u001b[0m] \u001b[1mModel parameters are saved to d3rlpy_logs/DiscreteCQL_20230429143030/model_186180.pt\u001b[0m\n"
     ]
    },
    {
     "name": "stderr",
     "output_type": "stream",
     "text": [
      "Epoch 7/10: 100%|██████████| 31030/31030 [02:13<00:00, 232.86it/s, loss=0.632]\n"
     ]
    },
    {
     "name": "stdout",
     "output_type": "stream",
     "text": [
      "\u001b[2m2023-04-29 14:45:26\u001b[0m [\u001b[32m\u001b[1minfo     \u001b[0m] \u001b[1mDiscreteCQL_20230429143030: epoch=7 step=217210\u001b[0m \u001b[36mepoch\u001b[0m=\u001b[35m7\u001b[0m \u001b[36mmetrics\u001b[0m=\u001b[35m{'time_sample_batch': 0.00010125747696645714, 'time_algorithm_update': 0.0038179642532550247, 'loss': 0.6317184894986492, 'time_step': 0.004244224448147183}\u001b[0m \u001b[36mstep\u001b[0m=\u001b[35m217210\u001b[0m\n",
      "\u001b[2m2023-04-29 14:45:26\u001b[0m [\u001b[32m\u001b[1minfo     \u001b[0m] \u001b[1mModel parameters are saved to d3rlpy_logs/DiscreteCQL_20230429143030/model_217210.pt\u001b[0m\n"
     ]
    },
    {
     "name": "stderr",
     "output_type": "stream",
     "text": [
      "Epoch 8/10: 100%|██████████| 31030/31030 [02:16<00:00, 227.57it/s, loss=0.642]\n"
     ]
    },
    {
     "name": "stdout",
     "output_type": "stream",
     "text": [
      "\u001b[2m2023-04-29 14:47:42\u001b[0m [\u001b[32m\u001b[1minfo     \u001b[0m] \u001b[1mDiscreteCQL_20230429143030: epoch=8 step=248240\u001b[0m \u001b[36mepoch\u001b[0m=\u001b[35m8\u001b[0m \u001b[36mmetrics\u001b[0m=\u001b[35m{'time_sample_batch': 0.00010118090334224425, 'time_algorithm_update': 0.0039126045812225094, 'loss': 0.6417340593422723, 'time_step': 0.004342167123148528}\u001b[0m \u001b[36mstep\u001b[0m=\u001b[35m248240\u001b[0m\n",
      "\u001b[2m2023-04-29 14:47:42\u001b[0m [\u001b[32m\u001b[1minfo     \u001b[0m] \u001b[1mModel parameters are saved to d3rlpy_logs/DiscreteCQL_20230429143030/model_248240.pt\u001b[0m\n"
     ]
    },
    {
     "name": "stderr",
     "output_type": "stream",
     "text": [
      "Epoch 9/10: 100%|██████████| 31030/31030 [02:16<00:00, 228.04it/s, loss=0.668]\n"
     ]
    },
    {
     "name": "stdout",
     "output_type": "stream",
     "text": [
      "\u001b[2m2023-04-29 14:49:59\u001b[0m [\u001b[32m\u001b[1minfo     \u001b[0m] \u001b[1mDiscreteCQL_20230429143030: epoch=9 step=279270\u001b[0m \u001b[36mepoch\u001b[0m=\u001b[35m9\u001b[0m \u001b[36mmetrics\u001b[0m=\u001b[35m{'time_sample_batch': 0.00010255245174318216, 'time_algorithm_update': 0.003911054207362016, 'loss': 0.6679839338222473, 'time_step': 0.004334298872079459}\u001b[0m \u001b[36mstep\u001b[0m=\u001b[35m279270\u001b[0m\n",
      "\u001b[2m2023-04-29 14:49:59\u001b[0m [\u001b[32m\u001b[1minfo     \u001b[0m] \u001b[1mModel parameters are saved to d3rlpy_logs/DiscreteCQL_20230429143030/model_279270.pt\u001b[0m\n"
     ]
    },
    {
     "name": "stderr",
     "output_type": "stream",
     "text": [
      "Epoch 10/10: 100%|██████████| 31030/31030 [02:10<00:00, 237.62it/s, loss=0.704]\n"
     ]
    },
    {
     "name": "stdout",
     "output_type": "stream",
     "text": [
      "\u001b[2m2023-04-29 14:52:09\u001b[0m [\u001b[32m\u001b[1minfo     \u001b[0m] \u001b[1mDiscreteCQL_20230429143030: epoch=10 step=310300\u001b[0m \u001b[36mepoch\u001b[0m=\u001b[35m10\u001b[0m \u001b[36mmetrics\u001b[0m=\u001b[35m{'time_sample_batch': 9.93504126226368e-05, 'time_algorithm_update': 0.003743168411045892, 'loss': 0.7043789748170858, 'time_step': 0.004159345082840226}\u001b[0m \u001b[36mstep\u001b[0m=\u001b[35m310300\u001b[0m\n",
      "\u001b[2m2023-04-29 14:52:09\u001b[0m [\u001b[32m\u001b[1minfo     \u001b[0m] \u001b[1mModel parameters are saved to d3rlpy_logs/DiscreteCQL_20230429143030/model_310300.pt\u001b[0m\n"
     ]
    }
   ],
   "source": [
    "cql_10 = train_cql(mem)"
   ]
  },
  {
   "cell_type": "code",
   "execution_count": 11,
   "metadata": {},
   "outputs": [
    {
     "name": "stdout",
     "output_type": "stream",
     "text": [
      "\u001b[2m2023-04-29 14:52:14\u001b[0m [\u001b[32m\u001b[1mdebug    \u001b[0m] \u001b[1mRoundIterator is selected.\u001b[0m\n",
      "\u001b[2m2023-04-29 14:52:14\u001b[0m [\u001b[32m\u001b[1minfo     \u001b[0m] \u001b[1mDirectory is created at d3rlpy_logs/DiscreteCQL_20230429145214\u001b[0m\n",
      "\u001b[2m2023-04-29 14:52:14\u001b[0m [\u001b[32m\u001b[1mdebug    \u001b[0m] \u001b[1mBuilding models...\u001b[0m\n",
      "\u001b[2m2023-04-29 14:52:14\u001b[0m [\u001b[32m\u001b[1mdebug    \u001b[0m] \u001b[1mModels have been built.\u001b[0m\n",
      "\u001b[2m2023-04-29 14:52:14\u001b[0m [\u001b[32m\u001b[1minfo     \u001b[0m] \u001b[1mParameters are saved to d3rlpy_logs/DiscreteCQL_20230429145214/params.json\u001b[0m \u001b[36mparams\u001b[0m=\u001b[35m{'action_scaler': None, 'alpha': 1.0, 'batch_size': 32, 'encoder_factory': {'type': 'default', 'params': {'activation': 'relu', 'use_batch_norm': False, 'dropout_rate': None}}, 'gamma': 0.99, 'generated_maxlen': 100000, 'learning_rate': 6.25e-05, 'n_critics': 1, 'n_frames': 1, 'n_steps': 1, 'optim_factory': {'optim_cls': 'Adam', 'betas': (0.9, 0.999), 'eps': 1e-08, 'weight_decay': 0, 'amsgrad': False}, 'q_func_factory': {'type': 'mean', 'params': {'share_encoder': False}}, 'real_ratio': 1.0, 'reward_scaler': None, 'scaler': None, 'target_update_interval': 8000, 'use_gpu': None, 'algorithm': 'DiscreteCQL', 'observation_shape': (2,), 'action_size': 2}\u001b[0m\n"
     ]
    },
    {
     "name": "stderr",
     "output_type": "stream",
     "text": [
      "Epoch 1/10: 100%|██████████| 31030/31030 [02:23<00:00, 215.80it/s, loss=0.508]\n"
     ]
    },
    {
     "name": "stdout",
     "output_type": "stream",
     "text": [
      "\u001b[2m2023-04-29 14:54:38\u001b[0m [\u001b[32m\u001b[1minfo     \u001b[0m] \u001b[1mDiscreteCQL_20230429145214: epoch=1 step=31030\u001b[0m \u001b[36mepoch\u001b[0m=\u001b[35m1\u001b[0m \u001b[36mmetrics\u001b[0m=\u001b[35m{'time_sample_batch': 0.00010660204855119495, 'time_algorithm_update': 0.004141143787456565, 'loss': 0.5081696902143928, 'time_step': 0.004579282728964153}\u001b[0m \u001b[36mstep\u001b[0m=\u001b[35m31030\u001b[0m\n",
      "\u001b[2m2023-04-29 14:54:38\u001b[0m [\u001b[32m\u001b[1minfo     \u001b[0m] \u001b[1mModel parameters are saved to d3rlpy_logs/DiscreteCQL_20230429145214/model_31030.pt\u001b[0m\n"
     ]
    },
    {
     "name": "stderr",
     "output_type": "stream",
     "text": [
      "Epoch 2/10: 100%|██████████| 31030/31030 [01:59<00:00, 258.97it/s, loss=0.522]\n"
     ]
    },
    {
     "name": "stdout",
     "output_type": "stream",
     "text": [
      "\u001b[2m2023-04-29 14:56:38\u001b[0m [\u001b[32m\u001b[1minfo     \u001b[0m] \u001b[1mDiscreteCQL_20230429145214: epoch=2 step=62060\u001b[0m \u001b[36mepoch\u001b[0m=\u001b[35m2\u001b[0m \u001b[36mmetrics\u001b[0m=\u001b[35m{'time_sample_batch': 9.559505492151072e-05, 'time_algorithm_update': 0.003406839127929373, 'loss': 0.5215982757160597, 'time_step': 0.003815324868150884}\u001b[0m \u001b[36mstep\u001b[0m=\u001b[35m62060\u001b[0m\n",
      "\u001b[2m2023-04-29 14:56:38\u001b[0m [\u001b[32m\u001b[1minfo     \u001b[0m] \u001b[1mModel parameters are saved to d3rlpy_logs/DiscreteCQL_20230429145214/model_62060.pt\u001b[0m\n"
     ]
    },
    {
     "name": "stderr",
     "output_type": "stream",
     "text": [
      "Epoch 3/10: 100%|██████████| 31030/31030 [02:04<00:00, 250.01it/s, loss=0.602]\n"
     ]
    },
    {
     "name": "stdout",
     "output_type": "stream",
     "text": [
      "\u001b[2m2023-04-29 14:58:42\u001b[0m [\u001b[32m\u001b[1minfo     \u001b[0m] \u001b[1mDiscreteCQL_20230429145214: epoch=3 step=93090\u001b[0m \u001b[36mepoch\u001b[0m=\u001b[35m3\u001b[0m \u001b[36mmetrics\u001b[0m=\u001b[35m{'time_sample_batch': 9.621503542901008e-05, 'time_algorithm_update': 0.0035325804104007446, 'loss': 0.6022605255289382, 'time_step': 0.003952617780493031}\u001b[0m \u001b[36mstep\u001b[0m=\u001b[35m93090\u001b[0m\n",
      "\u001b[2m2023-04-29 14:58:42\u001b[0m [\u001b[32m\u001b[1minfo     \u001b[0m] \u001b[1mModel parameters are saved to d3rlpy_logs/DiscreteCQL_20230429145214/model_93090.pt\u001b[0m\n"
     ]
    },
    {
     "name": "stderr",
     "output_type": "stream",
     "text": [
      "Epoch 4/10: 100%|██████████| 31030/31030 [02:06<00:00, 246.13it/s, loss=0.687]\n"
     ]
    },
    {
     "name": "stdout",
     "output_type": "stream",
     "text": [
      "\u001b[2m2023-04-29 15:00:48\u001b[0m [\u001b[32m\u001b[1minfo     \u001b[0m] \u001b[1mDiscreteCQL_20230429145214: epoch=4 step=124120\u001b[0m \u001b[36mepoch\u001b[0m=\u001b[35m4\u001b[0m \u001b[36mmetrics\u001b[0m=\u001b[35m{'time_sample_batch': 9.687443222109825e-05, 'time_algorithm_update': 0.00359158785620544, 'loss': 0.6871612731090023, 'time_step': 0.004014102743396519}\u001b[0m \u001b[36mstep\u001b[0m=\u001b[35m124120\u001b[0m\n",
      "\u001b[2m2023-04-29 15:00:48\u001b[0m [\u001b[32m\u001b[1minfo     \u001b[0m] \u001b[1mModel parameters are saved to d3rlpy_logs/DiscreteCQL_20230429145214/model_124120.pt\u001b[0m\n"
     ]
    },
    {
     "name": "stderr",
     "output_type": "stream",
     "text": [
      "Epoch 5/10: 100%|██████████| 31030/31030 [02:08<00:00, 242.14it/s, loss=0.768]\n"
     ]
    },
    {
     "name": "stdout",
     "output_type": "stream",
     "text": [
      "\u001b[2m2023-04-29 15:02:56\u001b[0m [\u001b[32m\u001b[1minfo     \u001b[0m] \u001b[1mDiscreteCQL_20230429145214: epoch=5 step=155150\u001b[0m \u001b[36mepoch\u001b[0m=\u001b[35m5\u001b[0m \u001b[36mmetrics\u001b[0m=\u001b[35m{'time_sample_batch': 9.665322465125185e-05, 'time_algorithm_update': 0.0036582868713123198, 'loss': 0.7680480153232938, 'time_step': 0.004080246757239324}\u001b[0m \u001b[36mstep\u001b[0m=\u001b[35m155150\u001b[0m\n",
      "\u001b[2m2023-04-29 15:02:56\u001b[0m [\u001b[32m\u001b[1minfo     \u001b[0m] \u001b[1mModel parameters are saved to d3rlpy_logs/DiscreteCQL_20230429145214/model_155150.pt\u001b[0m\n"
     ]
    },
    {
     "name": "stderr",
     "output_type": "stream",
     "text": [
      "Epoch 6/10: 100%|██████████| 31030/31030 [02:08<00:00, 240.96it/s, loss=0.833]\n"
     ]
    },
    {
     "name": "stdout",
     "output_type": "stream",
     "text": [
      "\u001b[2m2023-04-29 15:05:05\u001b[0m [\u001b[32m\u001b[1minfo     \u001b[0m] \u001b[1mDiscreteCQL_20230429145214: epoch=6 step=186180\u001b[0m \u001b[36mepoch\u001b[0m=\u001b[35m6\u001b[0m \u001b[36mmetrics\u001b[0m=\u001b[35m{'time_sample_batch': 9.87873974823775e-05, 'time_algorithm_update': 0.0036748626406562356, 'loss': 0.8334992024347623, 'time_step': 0.0041010056931166505}\u001b[0m \u001b[36mstep\u001b[0m=\u001b[35m186180\u001b[0m\n",
      "\u001b[2m2023-04-29 15:05:05\u001b[0m [\u001b[32m\u001b[1minfo     \u001b[0m] \u001b[1mModel parameters are saved to d3rlpy_logs/DiscreteCQL_20230429145214/model_186180.pt\u001b[0m\n"
     ]
    },
    {
     "name": "stderr",
     "output_type": "stream",
     "text": [
      "Epoch 7/10: 100%|██████████| 31030/31030 [02:11<00:00, 235.09it/s, loss=0.878]\n"
     ]
    },
    {
     "name": "stdout",
     "output_type": "stream",
     "text": [
      "\u001b[2m2023-04-29 15:07:17\u001b[0m [\u001b[32m\u001b[1minfo     \u001b[0m] \u001b[1mDiscreteCQL_20230429145214: epoch=7 step=217210\u001b[0m \u001b[36mepoch\u001b[0m=\u001b[35m7\u001b[0m \u001b[36mmetrics\u001b[0m=\u001b[35m{'time_sample_batch': 0.00010232922341644553, 'time_algorithm_update': 0.003777638113272025, 'loss': 0.8780248181928637, 'time_step': 0.004203386626395724}\u001b[0m \u001b[36mstep\u001b[0m=\u001b[35m217210\u001b[0m\n",
      "\u001b[2m2023-04-29 15:07:17\u001b[0m [\u001b[32m\u001b[1minfo     \u001b[0m] \u001b[1mModel parameters are saved to d3rlpy_logs/DiscreteCQL_20230429145214/model_217210.pt\u001b[0m\n"
     ]
    },
    {
     "name": "stderr",
     "output_type": "stream",
     "text": [
      "Epoch 8/10: 100%|██████████| 31030/31030 [02:12<00:00, 233.86it/s, loss=0.927]\n"
     ]
    },
    {
     "name": "stdout",
     "output_type": "stream",
     "text": [
      "\u001b[2m2023-04-29 15:09:30\u001b[0m [\u001b[32m\u001b[1minfo     \u001b[0m] \u001b[1mDiscreteCQL_20230429145214: epoch=8 step=248240\u001b[0m \u001b[36mepoch\u001b[0m=\u001b[35m8\u001b[0m \u001b[36mmetrics\u001b[0m=\u001b[35m{'time_sample_batch': 0.00010264659750050512, 'time_algorithm_update': 0.003796097151202768, 'loss': 0.9270391909107254, 'time_step': 0.0042251530209933795}\u001b[0m \u001b[36mstep\u001b[0m=\u001b[35m248240\u001b[0m\n",
      "\u001b[2m2023-04-29 15:09:30\u001b[0m [\u001b[32m\u001b[1minfo     \u001b[0m] \u001b[1mModel parameters are saved to d3rlpy_logs/DiscreteCQL_20230429145214/model_248240.pt\u001b[0m\n"
     ]
    },
    {
     "name": "stderr",
     "output_type": "stream",
     "text": [
      "Epoch 9/10: 100%|██████████| 31030/31030 [02:11<00:00, 235.36it/s, loss=0.972]\n"
     ]
    },
    {
     "name": "stdout",
     "output_type": "stream",
     "text": [
      "\u001b[2m2023-04-29 15:11:42\u001b[0m [\u001b[32m\u001b[1minfo     \u001b[0m] \u001b[1mDiscreteCQL_20230429145214: epoch=9 step=279270\u001b[0m \u001b[36mepoch\u001b[0m=\u001b[35m9\u001b[0m \u001b[36mmetrics\u001b[0m=\u001b[35m{'time_sample_batch': 0.0001017336379778681, 'time_algorithm_update': 0.0037745571889456265, 'loss': 0.9722608224474688, 'time_step': 0.004198736480617001}\u001b[0m \u001b[36mstep\u001b[0m=\u001b[35m279270\u001b[0m\n",
      "\u001b[2m2023-04-29 15:11:42\u001b[0m [\u001b[32m\u001b[1minfo     \u001b[0m] \u001b[1mModel parameters are saved to d3rlpy_logs/DiscreteCQL_20230429145214/model_279270.pt\u001b[0m\n"
     ]
    },
    {
     "name": "stderr",
     "output_type": "stream",
     "text": [
      "Epoch 10/10: 100%|██████████| 31030/31030 [02:11<00:00, 235.53it/s, loss=1.02]\n"
     ]
    },
    {
     "name": "stdout",
     "output_type": "stream",
     "text": [
      "\u001b[2m2023-04-29 15:13:54\u001b[0m [\u001b[32m\u001b[1minfo     \u001b[0m] \u001b[1mDiscreteCQL_20230429145214: epoch=10 step=310300\u001b[0m \u001b[36mepoch\u001b[0m=\u001b[35m10\u001b[0m \u001b[36mmetrics\u001b[0m=\u001b[35m{'time_sample_batch': 0.00010093674519889554, 'time_algorithm_update': 0.003772616232743849, 'loss': 1.0154986947717262, 'time_step': 0.004195831669479503}\u001b[0m \u001b[36mstep\u001b[0m=\u001b[35m310300\u001b[0m\n",
      "\u001b[2m2023-04-29 15:13:54\u001b[0m [\u001b[32m\u001b[1minfo     \u001b[0m] \u001b[1mModel parameters are saved to d3rlpy_logs/DiscreteCQL_20230429145214/model_310300.pt\u001b[0m\n"
     ]
    }
   ],
   "source": [
    "cql_11 = train_cql(mm2)"
   ]
  },
  {
   "cell_type": "code",
   "execution_count": 33,
   "metadata": {},
   "outputs": [
    {
     "name": "stdout",
     "output_type": "stream",
     "text": [
      "\u001b[2m2023-04-29 17:39:33\u001b[0m [\u001b[32m\u001b[1mdebug    \u001b[0m] \u001b[1mRoundIterator is selected.\u001b[0m\n",
      "\u001b[2m2023-04-29 17:39:33\u001b[0m [\u001b[32m\u001b[1minfo     \u001b[0m] \u001b[1mDirectory is created at d3rlpy_logs/DiscreteCQL_20230429173933\u001b[0m\n",
      "\u001b[2m2023-04-29 17:39:33\u001b[0m [\u001b[32m\u001b[1mdebug    \u001b[0m] \u001b[1mBuilding models...\u001b[0m\n",
      "\u001b[2m2023-04-29 17:39:33\u001b[0m [\u001b[32m\u001b[1mdebug    \u001b[0m] \u001b[1mModels have been built.\u001b[0m\n",
      "\u001b[2m2023-04-29 17:39:33\u001b[0m [\u001b[32m\u001b[1minfo     \u001b[0m] \u001b[1mParameters are saved to d3rlpy_logs/DiscreteCQL_20230429173933/params.json\u001b[0m \u001b[36mparams\u001b[0m=\u001b[35m{'action_scaler': None, 'alpha': 1.0, 'batch_size': 32, 'encoder_factory': {'type': 'default', 'params': {'activation': 'relu', 'use_batch_norm': False, 'dropout_rate': None}}, 'gamma': 0.99, 'generated_maxlen': 100000, 'learning_rate': 6.25e-05, 'n_critics': 1, 'n_frames': 1, 'n_steps': 1, 'optim_factory': {'optim_cls': 'Adam', 'betas': (0.9, 0.999), 'eps': 1e-08, 'weight_decay': 0, 'amsgrad': False}, 'q_func_factory': {'type': 'mean', 'params': {'share_encoder': False}}, 'real_ratio': 1.0, 'reward_scaler': None, 'scaler': None, 'target_update_interval': 8000, 'use_gpu': None, 'algorithm': 'DiscreteCQL', 'observation_shape': (2,), 'action_size': 2}\u001b[0m\n"
     ]
    },
    {
     "name": "stderr",
     "output_type": "stream",
     "text": [
      "Epoch 1/10: 100%|██████████| 31030/31030 [02:15<00:00, 229.66it/s, loss=0.697]\n"
     ]
    },
    {
     "name": "stdout",
     "output_type": "stream",
     "text": [
      "\u001b[2m2023-04-29 17:41:48\u001b[0m [\u001b[32m\u001b[1minfo     \u001b[0m] \u001b[1mDiscreteCQL_20230429173933: epoch=1 step=31030\u001b[0m \u001b[36mepoch\u001b[0m=\u001b[35m1\u001b[0m \u001b[36mmetrics\u001b[0m=\u001b[35m{'time_sample_batch': 0.000103112516424712, 'time_algorithm_update': 0.0038691214964999103, 'loss': 0.6967529870504876, 'time_step': 0.004302359426401908}\u001b[0m \u001b[36mstep\u001b[0m=\u001b[35m31030\u001b[0m\n",
      "\u001b[2m2023-04-29 17:41:48\u001b[0m [\u001b[32m\u001b[1minfo     \u001b[0m] \u001b[1mModel parameters are saved to d3rlpy_logs/DiscreteCQL_20230429173933/model_31030.pt\u001b[0m\n"
     ]
    },
    {
     "name": "stderr",
     "output_type": "stream",
     "text": [
      "Epoch 2/10: 100%|██████████| 31030/31030 [02:14<00:00, 230.33it/s, loss=0.703]\n"
     ]
    },
    {
     "name": "stdout",
     "output_type": "stream",
     "text": [
      "\u001b[2m2023-04-29 17:44:03\u001b[0m [\u001b[32m\u001b[1minfo     \u001b[0m] \u001b[1mDiscreteCQL_20230429173933: epoch=2 step=62060\u001b[0m \u001b[36mepoch\u001b[0m=\u001b[35m2\u001b[0m \u001b[36mmetrics\u001b[0m=\u001b[35m{'time_sample_batch': 0.00010335619819191169, 'time_algorithm_update': 0.0038598725920986677, 'loss': 0.7031548188034658, 'time_step': 0.004289331007418693}\u001b[0m \u001b[36mstep\u001b[0m=\u001b[35m62060\u001b[0m\n",
      "\u001b[2m2023-04-29 17:44:03\u001b[0m [\u001b[32m\u001b[1minfo     \u001b[0m] \u001b[1mModel parameters are saved to d3rlpy_logs/DiscreteCQL_20230429173933/model_62060.pt\u001b[0m\n"
     ]
    },
    {
     "name": "stderr",
     "output_type": "stream",
     "text": [
      "Epoch 3/10: 100%|██████████| 31030/31030 [02:17<00:00, 225.82it/s, loss=0.71] \n"
     ]
    },
    {
     "name": "stdout",
     "output_type": "stream",
     "text": [
      "\u001b[2m2023-04-29 17:46:21\u001b[0m [\u001b[32m\u001b[1minfo     \u001b[0m] \u001b[1mDiscreteCQL_20230429173933: epoch=3 step=93090\u001b[0m \u001b[36mepoch\u001b[0m=\u001b[35m3\u001b[0m \u001b[36mmetrics\u001b[0m=\u001b[35m{'time_sample_batch': 0.00010017938395680592, 'time_algorithm_update': 0.003945223615894078, 'loss': 0.7100023675110891, 'time_step': 0.004374882992797616}\u001b[0m \u001b[36mstep\u001b[0m=\u001b[35m93090\u001b[0m\n",
      "\u001b[2m2023-04-29 17:46:21\u001b[0m [\u001b[32m\u001b[1minfo     \u001b[0m] \u001b[1mModel parameters are saved to d3rlpy_logs/DiscreteCQL_20230429173933/model_93090.pt\u001b[0m\n"
     ]
    },
    {
     "name": "stderr",
     "output_type": "stream",
     "text": [
      "Epoch 4/10: 100%|██████████| 31030/31030 [02:19<00:00, 222.48it/s, loss=0.717]\n"
     ]
    },
    {
     "name": "stdout",
     "output_type": "stream",
     "text": [
      "\u001b[2m2023-04-29 17:48:40\u001b[0m [\u001b[32m\u001b[1minfo     \u001b[0m] \u001b[1mDiscreteCQL_20230429173933: epoch=4 step=124120\u001b[0m \u001b[36mepoch\u001b[0m=\u001b[35m4\u001b[0m \u001b[36mmetrics\u001b[0m=\u001b[35m{'time_sample_batch': 9.999904485045423e-05, 'time_algorithm_update': 0.004003219576831637, 'loss': 0.7167612637679807, 'time_step': 0.004439809650442042}\u001b[0m \u001b[36mstep\u001b[0m=\u001b[35m124120\u001b[0m\n",
      "\u001b[2m2023-04-29 17:48:40\u001b[0m [\u001b[32m\u001b[1minfo     \u001b[0m] \u001b[1mModel parameters are saved to d3rlpy_logs/DiscreteCQL_20230429173933/model_124120.pt\u001b[0m\n"
     ]
    },
    {
     "name": "stderr",
     "output_type": "stream",
     "text": [
      "Epoch 5/10: 100%|██████████| 31030/31030 [02:21<00:00, 219.82it/s, loss=0.724]\n"
     ]
    },
    {
     "name": "stdout",
     "output_type": "stream",
     "text": [
      "\u001b[2m2023-04-29 17:51:02\u001b[0m [\u001b[32m\u001b[1minfo     \u001b[0m] \u001b[1mDiscreteCQL_20230429173933: epoch=5 step=155150\u001b[0m \u001b[36mepoch\u001b[0m=\u001b[35m5\u001b[0m \u001b[36mmetrics\u001b[0m=\u001b[35m{'time_sample_batch': 9.911631216282157e-05, 'time_algorithm_update': 0.004057934696813418, 'loss': 0.7235406541782081, 'time_step': 0.004494353374895494}\u001b[0m \u001b[36mstep\u001b[0m=\u001b[35m155150\u001b[0m\n",
      "\u001b[2m2023-04-29 17:51:02\u001b[0m [\u001b[32m\u001b[1minfo     \u001b[0m] \u001b[1mModel parameters are saved to d3rlpy_logs/DiscreteCQL_20230429173933/model_155150.pt\u001b[0m\n"
     ]
    },
    {
     "name": "stderr",
     "output_type": "stream",
     "text": [
      "Epoch 6/10: 100%|██████████| 31030/31030 [02:25<00:00, 212.68it/s, loss=0.73] \n"
     ]
    },
    {
     "name": "stdout",
     "output_type": "stream",
     "text": [
      "\u001b[2m2023-04-29 17:53:28\u001b[0m [\u001b[32m\u001b[1minfo     \u001b[0m] \u001b[1mDiscreteCQL_20230429173933: epoch=6 step=186180\u001b[0m \u001b[36mepoch\u001b[0m=\u001b[35m6\u001b[0m \u001b[36mmetrics\u001b[0m=\u001b[35m{'time_sample_batch': 0.00010037477501276959, 'time_algorithm_update': 0.004194262271306993, 'loss': 0.7302192400049633, 'time_step': 0.004641262838773638}\u001b[0m \u001b[36mstep\u001b[0m=\u001b[35m186180\u001b[0m\n",
      "\u001b[2m2023-04-29 17:53:28\u001b[0m [\u001b[32m\u001b[1minfo     \u001b[0m] \u001b[1mModel parameters are saved to d3rlpy_logs/DiscreteCQL_20230429173933/model_186180.pt\u001b[0m\n"
     ]
    },
    {
     "name": "stderr",
     "output_type": "stream",
     "text": [
      "Epoch 7/10: 100%|██████████| 31030/31030 [02:19<00:00, 222.16it/s, loss=0.736]\n"
     ]
    },
    {
     "name": "stdout",
     "output_type": "stream",
     "text": [
      "\u001b[2m2023-04-29 17:55:47\u001b[0m [\u001b[32m\u001b[1minfo     \u001b[0m] \u001b[1mDiscreteCQL_20230429173933: epoch=7 step=217210\u001b[0m \u001b[36mepoch\u001b[0m=\u001b[35m7\u001b[0m \u001b[36mmetrics\u001b[0m=\u001b[35m{'time_sample_batch': 9.674040917000999e-05, 'time_algorithm_update': 0.004015754147418038, 'loss': 0.7359921672057613, 'time_step': 0.004446695068364292}\u001b[0m \u001b[36mstep\u001b[0m=\u001b[35m217210\u001b[0m\n",
      "\u001b[2m2023-04-29 17:55:47\u001b[0m [\u001b[32m\u001b[1minfo     \u001b[0m] \u001b[1mModel parameters are saved to d3rlpy_logs/DiscreteCQL_20230429173933/model_217210.pt\u001b[0m\n"
     ]
    },
    {
     "name": "stderr",
     "output_type": "stream",
     "text": [
      "Epoch 8/10: 100%|██████████| 31030/31030 [02:21<00:00, 219.90it/s, loss=0.742]\n"
     ]
    },
    {
     "name": "stdout",
     "output_type": "stream",
     "text": [
      "\u001b[2m2023-04-29 17:58:08\u001b[0m [\u001b[32m\u001b[1minfo     \u001b[0m] \u001b[1mDiscreteCQL_20230429173933: epoch=8 step=248240\u001b[0m \u001b[36mepoch\u001b[0m=\u001b[35m8\u001b[0m \u001b[36mmetrics\u001b[0m=\u001b[35m{'time_sample_batch': 9.652010056805772e-05, 'time_algorithm_update': 0.0040585549385594505, 'loss': 0.7416873283955577, 'time_step': 0.0044920649176599745}\u001b[0m \u001b[36mstep\u001b[0m=\u001b[35m248240\u001b[0m\n",
      "\u001b[2m2023-04-29 17:58:08\u001b[0m [\u001b[32m\u001b[1minfo     \u001b[0m] \u001b[1mModel parameters are saved to d3rlpy_logs/DiscreteCQL_20230429173933/model_248240.pt\u001b[0m\n"
     ]
    },
    {
     "name": "stderr",
     "output_type": "stream",
     "text": [
      "Epoch 9/10: 100%|██████████| 31030/31030 [02:20<00:00, 220.31it/s, loss=0.748]\n"
     ]
    },
    {
     "name": "stdout",
     "output_type": "stream",
     "text": [
      "\u001b[2m2023-04-29 18:00:29\u001b[0m [\u001b[32m\u001b[1minfo     \u001b[0m] \u001b[1mDiscreteCQL_20230429173933: epoch=9 step=279270\u001b[0m \u001b[36mepoch\u001b[0m=\u001b[35m9\u001b[0m \u001b[36mmetrics\u001b[0m=\u001b[35m{'time_sample_batch': 9.82210246586162e-05, 'time_algorithm_update': 0.004044931110857842, 'loss': 0.7484813643854125, 'time_step': 0.004483586728399967}\u001b[0m \u001b[36mstep\u001b[0m=\u001b[35m279270\u001b[0m\n",
      "\u001b[2m2023-04-29 18:00:29\u001b[0m [\u001b[32m\u001b[1minfo     \u001b[0m] \u001b[1mModel parameters are saved to d3rlpy_logs/DiscreteCQL_20230429173933/model_279270.pt\u001b[0m\n"
     ]
    },
    {
     "name": "stderr",
     "output_type": "stream",
     "text": [
      "Epoch 10/10: 100%|██████████| 31030/31030 [02:21<00:00, 219.47it/s, loss=0.753]\n"
     ]
    },
    {
     "name": "stdout",
     "output_type": "stream",
     "text": [
      "\u001b[2m2023-04-29 18:02:51\u001b[0m [\u001b[32m\u001b[1minfo     \u001b[0m] \u001b[1mDiscreteCQL_20230429173933: epoch=10 step=310300\u001b[0m \u001b[36mepoch\u001b[0m=\u001b[35m10\u001b[0m \u001b[36mmetrics\u001b[0m=\u001b[35m{'time_sample_batch': 9.554583450843548e-05, 'time_algorithm_update': 0.004067506968418014, 'loss': 0.7529704063372039, 'time_step': 0.004501474283988577}\u001b[0m \u001b[36mstep\u001b[0m=\u001b[35m310300\u001b[0m\n",
      "\u001b[2m2023-04-29 18:02:51\u001b[0m [\u001b[32m\u001b[1minfo     \u001b[0m] \u001b[1mModel parameters are saved to d3rlpy_logs/DiscreteCQL_20230429173933/model_310300.pt\u001b[0m\n"
     ]
    }
   ],
   "source": [
    "cql_01 = train_cql(mem2)"
   ]
  },
  {
   "cell_type": "code",
   "execution_count": 13,
   "metadata": {},
   "outputs": [
    {
     "name": "stdout",
     "output_type": "stream",
     "text": [
      "\u001b[2m2023-04-29 15:35:42\u001b[0m [\u001b[32m\u001b[1mdebug    \u001b[0m] \u001b[1mRoundIterator is selected.\u001b[0m\n",
      "\u001b[2m2023-04-29 15:35:42\u001b[0m [\u001b[32m\u001b[1minfo     \u001b[0m] \u001b[1mDirectory is created at d3rlpy_logs/DoubleDQN_20230429153542\u001b[0m\n",
      "\u001b[2m2023-04-29 15:35:42\u001b[0m [\u001b[32m\u001b[1mdebug    \u001b[0m] \u001b[1mBuilding models...\u001b[0m\n",
      "\u001b[2m2023-04-29 15:35:42\u001b[0m [\u001b[32m\u001b[1mdebug    \u001b[0m] \u001b[1mModels have been built.\u001b[0m\n",
      "\u001b[2m2023-04-29 15:35:42\u001b[0m [\u001b[32m\u001b[1minfo     \u001b[0m] \u001b[1mParameters are saved to d3rlpy_logs/DoubleDQN_20230429153542/params.json\u001b[0m \u001b[36mparams\u001b[0m=\u001b[35m{'action_scaler': None, 'batch_size': 32, 'encoder_factory': {'type': 'default', 'params': {'activation': 'relu', 'use_batch_norm': False, 'dropout_rate': None}}, 'gamma': 0.99, 'generated_maxlen': 100000, 'learning_rate': 6.25e-05, 'n_critics': 1, 'n_frames': 1, 'n_steps': 1, 'optim_factory': {'optim_cls': 'Adam', 'betas': (0.9, 0.999), 'eps': 1e-08, 'weight_decay': 0, 'amsgrad': False}, 'q_func_factory': {'type': 'mean', 'params': {'share_encoder': False}}, 'real_ratio': 1.0, 'reward_scaler': None, 'scaler': None, 'target_update_interval': 8000, 'use_gpu': None, 'algorithm': 'DoubleDQN', 'observation_shape': (2,), 'action_size': 2}\u001b[0m\n"
     ]
    },
    {
     "name": "stderr",
     "output_type": "stream",
     "text": [
      "Epoch 1/10: 100%|██████████| 31030/31030 [01:23<00:00, 372.24it/s, loss=0.0337] \n"
     ]
    },
    {
     "name": "stdout",
     "output_type": "stream",
     "text": [
      "\u001b[2m2023-04-29 15:37:05\u001b[0m [\u001b[32m\u001b[1minfo     \u001b[0m] \u001b[1mDoubleDQN_20230429153542: epoch=1 step=31030\u001b[0m \u001b[36mepoch\u001b[0m=\u001b[35m1\u001b[0m \u001b[36mmetrics\u001b[0m=\u001b[35m{'time_sample_batch': 9.116580937318251e-05, 'time_algorithm_update': 0.0022463684807352354, 'loss': 0.03367120438461068, 'time_step': 0.0026530085476682602}\u001b[0m \u001b[36mstep\u001b[0m=\u001b[35m31030\u001b[0m\n",
      "\u001b[2m2023-04-29 15:37:06\u001b[0m [\u001b[32m\u001b[1minfo     \u001b[0m] \u001b[1mModel parameters are saved to d3rlpy_logs/DoubleDQN_20230429153542/model_31030.pt\u001b[0m\n"
     ]
    },
    {
     "name": "stderr",
     "output_type": "stream",
     "text": [
      "Epoch 2/10: 100%|██████████| 31030/31030 [01:24<00:00, 369.22it/s, loss=0.146]\n"
     ]
    },
    {
     "name": "stdout",
     "output_type": "stream",
     "text": [
      "\u001b[2m2023-04-29 15:38:30\u001b[0m [\u001b[32m\u001b[1minfo     \u001b[0m] \u001b[1mDoubleDQN_20230429153542: epoch=2 step=62060\u001b[0m \u001b[36mepoch\u001b[0m=\u001b[35m2\u001b[0m \u001b[36mmetrics\u001b[0m=\u001b[35m{'time_sample_batch': 9.118620902924165e-05, 'time_algorithm_update': 0.0022654758281873727, 'loss': 0.14613135900411678, 'time_step': 0.0026750417129093704}\u001b[0m \u001b[36mstep\u001b[0m=\u001b[35m62060\u001b[0m\n",
      "\u001b[2m2023-04-29 15:38:30\u001b[0m [\u001b[32m\u001b[1minfo     \u001b[0m] \u001b[1mModel parameters are saved to d3rlpy_logs/DoubleDQN_20230429153542/model_62060.pt\u001b[0m\n"
     ]
    },
    {
     "name": "stderr",
     "output_type": "stream",
     "text": [
      "Epoch 3/10: 100%|██████████| 31030/31030 [01:25<00:00, 361.82it/s, loss=0.262]\n"
     ]
    },
    {
     "name": "stdout",
     "output_type": "stream",
     "text": [
      "\u001b[2m2023-04-29 15:39:55\u001b[0m [\u001b[32m\u001b[1minfo     \u001b[0m] \u001b[1mDoubleDQN_20230429153542: epoch=3 step=93090\u001b[0m \u001b[36mepoch\u001b[0m=\u001b[35m3\u001b[0m \u001b[36mmetrics\u001b[0m=\u001b[35m{'time_sample_batch': 9.114357336390376e-05, 'time_algorithm_update': 0.002316680324872847, 'loss': 0.26183395114831765, 'time_step': 0.002729811270391407}\u001b[0m \u001b[36mstep\u001b[0m=\u001b[35m93090\u001b[0m\n",
      "\u001b[2m2023-04-29 15:39:55\u001b[0m [\u001b[32m\u001b[1minfo     \u001b[0m] \u001b[1mModel parameters are saved to d3rlpy_logs/DoubleDQN_20230429153542/model_93090.pt\u001b[0m\n"
     ]
    },
    {
     "name": "stderr",
     "output_type": "stream",
     "text": [
      "Epoch 4/10: 100%|██████████| 31030/31030 [01:27<00:00, 356.39it/s, loss=0.364]\n"
     ]
    },
    {
     "name": "stdout",
     "output_type": "stream",
     "text": [
      "\u001b[2m2023-04-29 15:41:23\u001b[0m [\u001b[32m\u001b[1minfo     \u001b[0m] \u001b[1mDoubleDQN_20230429153542: epoch=4 step=124120\u001b[0m \u001b[36mepoch\u001b[0m=\u001b[35m4\u001b[0m \u001b[36mmetrics\u001b[0m=\u001b[35m{'time_sample_batch': 9.131978643812596e-05, 'time_algorithm_update': 0.0023591397771365098, 'loss': 0.36422170068530824, 'time_step': 0.002771456280793446}\u001b[0m \u001b[36mstep\u001b[0m=\u001b[35m124120\u001b[0m\n",
      "\u001b[2m2023-04-29 15:41:23\u001b[0m [\u001b[32m\u001b[1minfo     \u001b[0m] \u001b[1mModel parameters are saved to d3rlpy_logs/DoubleDQN_20230429153542/model_124120.pt\u001b[0m\n"
     ]
    },
    {
     "name": "stderr",
     "output_type": "stream",
     "text": [
      "Epoch 5/10: 100%|██████████| 31030/31030 [01:27<00:00, 356.07it/s, loss=0.444]\n"
     ]
    },
    {
     "name": "stdout",
     "output_type": "stream",
     "text": [
      "\u001b[2m2023-04-29 15:42:50\u001b[0m [\u001b[32m\u001b[1minfo     \u001b[0m] \u001b[1mDoubleDQN_20230429153542: epoch=5 step=155150\u001b[0m \u001b[36mepoch\u001b[0m=\u001b[35m5\u001b[0m \u001b[36mmetrics\u001b[0m=\u001b[35m{'time_sample_batch': 9.140167703484091e-05, 'time_algorithm_update': 0.0023621395792148207, 'loss': 0.44414438795354766, 'time_step': 0.0027743009609673586}\u001b[0m \u001b[36mstep\u001b[0m=\u001b[35m155150\u001b[0m\n",
      "\u001b[2m2023-04-29 15:42:50\u001b[0m [\u001b[32m\u001b[1minfo     \u001b[0m] \u001b[1mModel parameters are saved to d3rlpy_logs/DoubleDQN_20230429153542/model_155150.pt\u001b[0m\n"
     ]
    },
    {
     "name": "stderr",
     "output_type": "stream",
     "text": [
      "Epoch 6/10: 100%|██████████| 31030/31030 [01:27<00:00, 355.27it/s, loss=0.509]\n"
     ]
    },
    {
     "name": "stdout",
     "output_type": "stream",
     "text": [
      "\u001b[2m2023-04-29 15:44:17\u001b[0m [\u001b[32m\u001b[1minfo     \u001b[0m] \u001b[1mDoubleDQN_20230429153542: epoch=6 step=186180\u001b[0m \u001b[36mepoch\u001b[0m=\u001b[35m6\u001b[0m \u001b[36mmetrics\u001b[0m=\u001b[35m{'time_sample_batch': 9.119546763020257e-05, 'time_algorithm_update': 0.0023683485967898577, 'loss': 0.5091993765174968, 'time_step': 0.002779904496773496}\u001b[0m \u001b[36mstep\u001b[0m=\u001b[35m186180\u001b[0m\n",
      "\u001b[2m2023-04-29 15:44:17\u001b[0m [\u001b[32m\u001b[1minfo     \u001b[0m] \u001b[1mModel parameters are saved to d3rlpy_logs/DoubleDQN_20230429153542/model_186180.pt\u001b[0m\n"
     ]
    },
    {
     "name": "stderr",
     "output_type": "stream",
     "text": [
      "Epoch 7/10: 100%|██████████| 31030/31030 [01:27<00:00, 353.28it/s, loss=0.589]\n"
     ]
    },
    {
     "name": "stdout",
     "output_type": "stream",
     "text": [
      "\u001b[2m2023-04-29 15:45:45\u001b[0m [\u001b[32m\u001b[1minfo     \u001b[0m] \u001b[1mDoubleDQN_20230429153542: epoch=7 step=217210\u001b[0m \u001b[36mepoch\u001b[0m=\u001b[35m7\u001b[0m \u001b[36mmetrics\u001b[0m=\u001b[35m{'time_sample_batch': 9.163391809097767e-05, 'time_algorithm_update': 0.0023833040648646945, 'loss': 0.5886827955582509, 'time_step': 0.0027961870412307136}\u001b[0m \u001b[36mstep\u001b[0m=\u001b[35m217210\u001b[0m\n",
      "\u001b[2m2023-04-29 15:45:45\u001b[0m [\u001b[32m\u001b[1minfo     \u001b[0m] \u001b[1mModel parameters are saved to d3rlpy_logs/DoubleDQN_20230429153542/model_217210.pt\u001b[0m\n"
     ]
    },
    {
     "name": "stderr",
     "output_type": "stream",
     "text": [
      "Epoch 8/10: 100%|██████████| 31030/31030 [01:27<00:00, 354.58it/s, loss=0.669]\n"
     ]
    },
    {
     "name": "stdout",
     "output_type": "stream",
     "text": [
      "\u001b[2m2023-04-29 15:47:13\u001b[0m [\u001b[32m\u001b[1minfo     \u001b[0m] \u001b[1mDoubleDQN_20230429153542: epoch=8 step=248240\u001b[0m \u001b[36mepoch\u001b[0m=\u001b[35m8\u001b[0m \u001b[36mmetrics\u001b[0m=\u001b[35m{'time_sample_batch': 9.119902508434772e-05, 'time_algorithm_update': 0.0023743507057630052, 'loss': 0.6690982896547681, 'time_step': 0.002786010048522359}\u001b[0m \u001b[36mstep\u001b[0m=\u001b[35m248240\u001b[0m\n",
      "\u001b[2m2023-04-29 15:47:13\u001b[0m [\u001b[32m\u001b[1minfo     \u001b[0m] \u001b[1mModel parameters are saved to d3rlpy_logs/DoubleDQN_20230429153542/model_248240.pt\u001b[0m\n"
     ]
    },
    {
     "name": "stderr",
     "output_type": "stream",
     "text": [
      "Epoch 9/10: 100%|██████████| 31030/31030 [01:27<00:00, 352.91it/s, loss=0.737]\n"
     ]
    },
    {
     "name": "stdout",
     "output_type": "stream",
     "text": [
      "\u001b[2m2023-04-29 15:48:41\u001b[0m [\u001b[32m\u001b[1minfo     \u001b[0m] \u001b[1mDoubleDQN_20230429153542: epoch=9 step=279270\u001b[0m \u001b[36mepoch\u001b[0m=\u001b[35m9\u001b[0m \u001b[36mmetrics\u001b[0m=\u001b[35m{'time_sample_batch': 9.102152118443137e-05, 'time_algorithm_update': 0.0023872237185528305, 'loss': 0.7367391026163155, 'time_step': 0.0027994084581036433}\u001b[0m \u001b[36mstep\u001b[0m=\u001b[35m279270\u001b[0m\n",
      "\u001b[2m2023-04-29 15:48:41\u001b[0m [\u001b[32m\u001b[1minfo     \u001b[0m] \u001b[1mModel parameters are saved to d3rlpy_logs/DoubleDQN_20230429153542/model_279270.pt\u001b[0m\n"
     ]
    },
    {
     "name": "stderr",
     "output_type": "stream",
     "text": [
      "Epoch 10/10: 100%|██████████| 31030/31030 [02:27<00:00, 210.16it/s, loss=0.747]\n"
     ]
    },
    {
     "name": "stdout",
     "output_type": "stream",
     "text": [
      "\u001b[2m2023-04-29 15:51:09\u001b[0m [\u001b[32m\u001b[1minfo     \u001b[0m] \u001b[1mDoubleDQN_20230429153542: epoch=10 step=310300\u001b[0m \u001b[36mepoch\u001b[0m=\u001b[35m10\u001b[0m \u001b[36mmetrics\u001b[0m=\u001b[35m{'time_sample_batch': 0.00012175131720033647, 'time_algorithm_update': 0.004153650782010726, 'loss': 0.7469617055940928, 'time_step': 0.004694132861728404}\u001b[0m \u001b[36mstep\u001b[0m=\u001b[35m310300\u001b[0m\n",
      "\u001b[2m2023-04-29 15:51:09\u001b[0m [\u001b[32m\u001b[1minfo     \u001b[0m] \u001b[1mModel parameters are saved to d3rlpy_logs/DoubleDQN_20230429153542/model_310300.pt\u001b[0m\n"
     ]
    }
   ],
   "source": [
    "ddqn_10 = train_ddqn(mem)"
   ]
  },
  {
   "cell_type": "code",
   "execution_count": 14,
   "metadata": {},
   "outputs": [
    {
     "name": "stdout",
     "output_type": "stream",
     "text": [
      "\u001b[2m2023-04-29 15:51:14\u001b[0m [\u001b[32m\u001b[1mdebug    \u001b[0m] \u001b[1mRoundIterator is selected.\u001b[0m\n",
      "\u001b[2m2023-04-29 15:51:14\u001b[0m [\u001b[32m\u001b[1minfo     \u001b[0m] \u001b[1mDirectory is created at d3rlpy_logs/DoubleDQN_20230429155114\u001b[0m\n",
      "\u001b[2m2023-04-29 15:51:14\u001b[0m [\u001b[32m\u001b[1mdebug    \u001b[0m] \u001b[1mBuilding models...\u001b[0m\n",
      "\u001b[2m2023-04-29 15:51:14\u001b[0m [\u001b[32m\u001b[1mdebug    \u001b[0m] \u001b[1mModels have been built.\u001b[0m\n",
      "\u001b[2m2023-04-29 15:51:14\u001b[0m [\u001b[32m\u001b[1minfo     \u001b[0m] \u001b[1mParameters are saved to d3rlpy_logs/DoubleDQN_20230429155114/params.json\u001b[0m \u001b[36mparams\u001b[0m=\u001b[35m{'action_scaler': None, 'batch_size': 32, 'encoder_factory': {'type': 'default', 'params': {'activation': 'relu', 'use_batch_norm': False, 'dropout_rate': None}}, 'gamma': 0.99, 'generated_maxlen': 100000, 'learning_rate': 6.25e-05, 'n_critics': 1, 'n_frames': 1, 'n_steps': 1, 'optim_factory': {'optim_cls': 'Adam', 'betas': (0.9, 0.999), 'eps': 1e-08, 'weight_decay': 0, 'amsgrad': False}, 'q_func_factory': {'type': 'mean', 'params': {'share_encoder': False}}, 'real_ratio': 1.0, 'reward_scaler': None, 'scaler': None, 'target_update_interval': 8000, 'use_gpu': None, 'algorithm': 'DoubleDQN', 'observation_shape': (2,), 'action_size': 2}\u001b[0m\n"
     ]
    },
    {
     "name": "stderr",
     "output_type": "stream",
     "text": [
      "Epoch 1/10: 100%|██████████| 31030/31030 [02:32<00:00, 203.11it/s, loss=0.0216] \n"
     ]
    },
    {
     "name": "stdout",
     "output_type": "stream",
     "text": [
      "\u001b[2m2023-04-29 15:53:47\u001b[0m [\u001b[32m\u001b[1minfo     \u001b[0m] \u001b[1mDoubleDQN_20230429155114: epoch=1 step=31030\u001b[0m \u001b[36mepoch\u001b[0m=\u001b[35m1\u001b[0m \u001b[36mmetrics\u001b[0m=\u001b[35m{'time_sample_batch': 0.00012912507445974347, 'time_algorithm_update': 0.004296402895869342, 'loss': 0.02158606306149723, 'time_step': 0.004847700980798376}\u001b[0m \u001b[36mstep\u001b[0m=\u001b[35m31030\u001b[0m\n",
      "\u001b[2m2023-04-29 15:53:47\u001b[0m [\u001b[32m\u001b[1minfo     \u001b[0m] \u001b[1mModel parameters are saved to d3rlpy_logs/DoubleDQN_20230429155114/model_31030.pt\u001b[0m\n"
     ]
    },
    {
     "name": "stderr",
     "output_type": "stream",
     "text": [
      "Epoch 2/10: 100%|██████████| 31030/31030 [02:35<00:00, 199.77it/s, loss=0.0842]\n"
     ]
    },
    {
     "name": "stdout",
     "output_type": "stream",
     "text": [
      "\u001b[2m2023-04-29 15:56:23\u001b[0m [\u001b[32m\u001b[1minfo     \u001b[0m] \u001b[1mDoubleDQN_20230429155114: epoch=2 step=62060\u001b[0m \u001b[36mepoch\u001b[0m=\u001b[35m2\u001b[0m \u001b[36mmetrics\u001b[0m=\u001b[35m{'time_sample_batch': 0.00012883405473360584, 'time_algorithm_update': 0.004379403087887655, 'loss': 0.0842345870498395, 'time_step': 0.0049306595436880525}\u001b[0m \u001b[36mstep\u001b[0m=\u001b[35m62060\u001b[0m\n",
      "\u001b[2m2023-04-29 15:56:23\u001b[0m [\u001b[32m\u001b[1minfo     \u001b[0m] \u001b[1mModel parameters are saved to d3rlpy_logs/DoubleDQN_20230429155114/model_62060.pt\u001b[0m\n"
     ]
    },
    {
     "name": "stderr",
     "output_type": "stream",
     "text": [
      "Epoch 3/10: 100%|██████████| 31030/31030 [02:40<00:00, 193.58it/s, loss=0.157]\n"
     ]
    },
    {
     "name": "stdout",
     "output_type": "stream",
     "text": [
      "\u001b[2m2023-04-29 15:59:03\u001b[0m [\u001b[32m\u001b[1minfo     \u001b[0m] \u001b[1mDoubleDQN_20230429155114: epoch=3 step=93090\u001b[0m \u001b[36mepoch\u001b[0m=\u001b[35m3\u001b[0m \u001b[36mmetrics\u001b[0m=\u001b[35m{'time_sample_batch': 0.0001289898374178238, 'time_algorithm_update': 0.004540662276833202, 'loss': 0.15736694312194946, 'time_step': 0.005093951621748654}\u001b[0m \u001b[36mstep\u001b[0m=\u001b[35m93090\u001b[0m\n",
      "\u001b[2m2023-04-29 15:59:03\u001b[0m [\u001b[32m\u001b[1minfo     \u001b[0m] \u001b[1mModel parameters are saved to d3rlpy_logs/DoubleDQN_20230429155114/model_93090.pt\u001b[0m\n"
     ]
    },
    {
     "name": "stderr",
     "output_type": "stream",
     "text": [
      "Epoch 4/10: 100%|██████████| 31030/31030 [02:42<00:00, 191.32it/s, loss=0.237]\n"
     ]
    },
    {
     "name": "stdout",
     "output_type": "stream",
     "text": [
      "\u001b[2m2023-04-29 16:01:45\u001b[0m [\u001b[32m\u001b[1minfo     \u001b[0m] \u001b[1mDoubleDQN_20230429155114: epoch=4 step=124120\u001b[0m \u001b[36mepoch\u001b[0m=\u001b[35m4\u001b[0m \u001b[36mmetrics\u001b[0m=\u001b[35m{'time_sample_batch': 0.00012946072755765038, 'time_algorithm_update': 0.0045981859569199195, 'loss': 0.23745472731260517, 'time_step': 0.005154042677306145}\u001b[0m \u001b[36mstep\u001b[0m=\u001b[35m124120\u001b[0m\n",
      "\u001b[2m2023-04-29 16:01:45\u001b[0m [\u001b[32m\u001b[1minfo     \u001b[0m] \u001b[1mModel parameters are saved to d3rlpy_logs/DoubleDQN_20230429155114/model_124120.pt\u001b[0m\n"
     ]
    },
    {
     "name": "stderr",
     "output_type": "stream",
     "text": [
      "Epoch 5/10: 100%|██████████| 31030/31030 [03:24<00:00, 152.04it/s, loss=0.3]  \n"
     ]
    },
    {
     "name": "stdout",
     "output_type": "stream",
     "text": [
      "\u001b[2m2023-04-29 16:05:10\u001b[0m [\u001b[32m\u001b[1minfo     \u001b[0m] \u001b[1mDoubleDQN_20230429155114: epoch=5 step=155150\u001b[0m \u001b[36mepoch\u001b[0m=\u001b[35m5\u001b[0m \u001b[36mmetrics\u001b[0m=\u001b[35m{'time_sample_batch': 0.0003841766725614537, 'time_algorithm_update': 0.004693759997506469, 'loss': 0.3002871020506921, 'time_step': 0.0064992270391293966}\u001b[0m \u001b[36mstep\u001b[0m=\u001b[35m155150\u001b[0m\n",
      "\u001b[2m2023-04-29 16:05:10\u001b[0m [\u001b[32m\u001b[1minfo     \u001b[0m] \u001b[1mModel parameters are saved to d3rlpy_logs/DoubleDQN_20230429155114/model_155150.pt\u001b[0m\n"
     ]
    },
    {
     "name": "stderr",
     "output_type": "stream",
     "text": [
      "Epoch 6/10: 100%|██████████| 31030/31030 [09:49<00:00, 52.66it/s, loss=0.352] \n"
     ]
    },
    {
     "name": "stdout",
     "output_type": "stream",
     "text": [
      "\u001b[2m2023-04-29 16:14:59\u001b[0m [\u001b[32m\u001b[1minfo     \u001b[0m] \u001b[1mDoubleDQN_20230429155114: epoch=6 step=186180\u001b[0m \u001b[36mepoch\u001b[0m=\u001b[35m6\u001b[0m \u001b[36mmetrics\u001b[0m=\u001b[35m{'time_sample_batch': 0.0006045520055920241, 'time_algorithm_update': 0.01783718126188199, 'loss': 0.35238227451636145, 'time_step': 0.018891256346535077}\u001b[0m \u001b[36mstep\u001b[0m=\u001b[35m186180\u001b[0m\n",
      "\u001b[2m2023-04-29 16:14:59\u001b[0m [\u001b[32m\u001b[1minfo     \u001b[0m] \u001b[1mModel parameters are saved to d3rlpy_logs/DoubleDQN_20230429155114/model_186180.pt\u001b[0m\n"
     ]
    },
    {
     "name": "stderr",
     "output_type": "stream",
     "text": [
      "Epoch 7/10: 100%|██████████| 31030/31030 [02:27<00:00, 210.94it/s, loss=0.404]\n"
     ]
    },
    {
     "name": "stdout",
     "output_type": "stream",
     "text": [
      "\u001b[2m2023-04-29 16:17:26\u001b[0m [\u001b[32m\u001b[1minfo     \u001b[0m] \u001b[1mDoubleDQN_20230429155114: epoch=7 step=217210\u001b[0m \u001b[36mepoch\u001b[0m=\u001b[35m7\u001b[0m \u001b[36mmetrics\u001b[0m=\u001b[35m{'time_sample_batch': 0.0001527107956714489, 'time_algorithm_update': 0.004139339021049005, 'loss': 0.40382459085345235, 'time_step': 0.004670744567696525}\u001b[0m \u001b[36mstep\u001b[0m=\u001b[35m217210\u001b[0m\n",
      "\u001b[2m2023-04-29 16:17:26\u001b[0m [\u001b[32m\u001b[1minfo     \u001b[0m] \u001b[1mModel parameters are saved to d3rlpy_logs/DoubleDQN_20230429155114/model_217210.pt\u001b[0m\n"
     ]
    },
    {
     "name": "stderr",
     "output_type": "stream",
     "text": [
      "Epoch 8/10: 100%|██████████| 31030/31030 [01:30<00:00, 341.75it/s, loss=0.442]\n"
     ]
    },
    {
     "name": "stdout",
     "output_type": "stream",
     "text": [
      "\u001b[2m2023-04-29 16:18:57\u001b[0m [\u001b[32m\u001b[1minfo     \u001b[0m] \u001b[1mDoubleDQN_20230429155114: epoch=8 step=248240\u001b[0m \u001b[36mepoch\u001b[0m=\u001b[35m8\u001b[0m \u001b[36mmetrics\u001b[0m=\u001b[35m{'time_sample_batch': 9.892570023532072e-05, 'time_algorithm_update': 0.002484806452956155, 'loss': 0.4422394664467997, 'time_step': 0.002890594828486097}\u001b[0m \u001b[36mstep\u001b[0m=\u001b[35m248240\u001b[0m\n",
      "\u001b[2m2023-04-29 16:18:57\u001b[0m [\u001b[32m\u001b[1minfo     \u001b[0m] \u001b[1mModel parameters are saved to d3rlpy_logs/DoubleDQN_20230429155114/model_248240.pt\u001b[0m\n"
     ]
    },
    {
     "name": "stderr",
     "output_type": "stream",
     "text": [
      "Epoch 9/10: 100%|██████████| 31030/31030 [01:32<00:00, 336.29it/s, loss=0.498]\n"
     ]
    },
    {
     "name": "stdout",
     "output_type": "stream",
     "text": [
      "\u001b[2m2023-04-29 16:20:30\u001b[0m [\u001b[32m\u001b[1minfo     \u001b[0m] \u001b[1mDoubleDQN_20230429155114: epoch=9 step=279270\u001b[0m \u001b[36mepoch\u001b[0m=\u001b[35m9\u001b[0m \u001b[36mmetrics\u001b[0m=\u001b[35m{'time_sample_batch': 9.707100653394822e-05, 'time_algorithm_update': 0.002526668245239946, 'loss': 0.4983242411952186, 'time_step': 0.002936862746708016}\u001b[0m \u001b[36mstep\u001b[0m=\u001b[35m279270\u001b[0m\n",
      "\u001b[2m2023-04-29 16:20:30\u001b[0m [\u001b[32m\u001b[1minfo     \u001b[0m] \u001b[1mModel parameters are saved to d3rlpy_logs/DoubleDQN_20230429155114/model_279270.pt\u001b[0m\n"
     ]
    },
    {
     "name": "stderr",
     "output_type": "stream",
     "text": [
      "Epoch 10/10: 100%|██████████| 31030/31030 [01:34<00:00, 327.86it/s, loss=0.591]\n"
     ]
    },
    {
     "name": "stdout",
     "output_type": "stream",
     "text": [
      "\u001b[2m2023-04-29 16:22:04\u001b[0m [\u001b[32m\u001b[1minfo     \u001b[0m] \u001b[1mDoubleDQN_20230429155114: epoch=10 step=310300\u001b[0m \u001b[36mepoch\u001b[0m=\u001b[35m10\u001b[0m \u001b[36mmetrics\u001b[0m=\u001b[35m{'time_sample_batch': 9.608936432750234e-05, 'time_algorithm_update': 0.0025967183744680716, 'loss': 0.5909915836651, 'time_step': 0.003012603119884888}\u001b[0m \u001b[36mstep\u001b[0m=\u001b[35m310300\u001b[0m\n",
      "\u001b[2m2023-04-29 16:22:04\u001b[0m [\u001b[32m\u001b[1minfo     \u001b[0m] \u001b[1mModel parameters are saved to d3rlpy_logs/DoubleDQN_20230429155114/model_310300.pt\u001b[0m\n"
     ]
    }
   ],
   "source": [
    "ddqn_11 = train_ddqn(mm2)"
   ]
  },
  {
   "cell_type": "code",
   "execution_count": 15,
   "metadata": {},
   "outputs": [
    {
     "name": "stdout",
     "output_type": "stream",
     "text": [
      "\u001b[2m2023-04-29 16:22:27\u001b[0m [\u001b[32m\u001b[1mdebug    \u001b[0m] \u001b[1mRoundIterator is selected.\u001b[0m\n",
      "\u001b[2m2023-04-29 16:22:27\u001b[0m [\u001b[32m\u001b[1minfo     \u001b[0m] \u001b[1mDirectory is created at d3rlpy_logs/DoubleDQN_20230429162227\u001b[0m\n",
      "\u001b[2m2023-04-29 16:22:27\u001b[0m [\u001b[32m\u001b[1mdebug    \u001b[0m] \u001b[1mBuilding models...\u001b[0m\n",
      "\u001b[2m2023-04-29 16:22:27\u001b[0m [\u001b[32m\u001b[1mdebug    \u001b[0m] \u001b[1mModels have been built.\u001b[0m\n",
      "\u001b[2m2023-04-29 16:22:27\u001b[0m [\u001b[32m\u001b[1minfo     \u001b[0m] \u001b[1mParameters are saved to d3rlpy_logs/DoubleDQN_20230429162227/params.json\u001b[0m \u001b[36mparams\u001b[0m=\u001b[35m{'action_scaler': None, 'batch_size': 32, 'encoder_factory': {'type': 'default', 'params': {'activation': 'relu', 'use_batch_norm': False, 'dropout_rate': None}}, 'gamma': 0.99, 'generated_maxlen': 100000, 'learning_rate': 6.25e-05, 'n_critics': 1, 'n_frames': 1, 'n_steps': 1, 'optim_factory': {'optim_cls': 'Adam', 'betas': (0.9, 0.999), 'eps': 1e-08, 'weight_decay': 0, 'amsgrad': False}, 'q_func_factory': {'type': 'mean', 'params': {'share_encoder': False}}, 'real_ratio': 1.0, 'reward_scaler': None, 'scaler': None, 'target_update_interval': 8000, 'use_gpu': None, 'algorithm': 'DoubleDQN', 'observation_shape': (2,), 'action_size': 2}\u001b[0m\n"
     ]
    },
    {
     "name": "stderr",
     "output_type": "stream",
     "text": [
      "Epoch 1/10: 100%|██████████| 31030/31030 [01:28<00:00, 349.56it/s, loss=0.00422]\n"
     ]
    },
    {
     "name": "stdout",
     "output_type": "stream",
     "text": [
      "\u001b[2m2023-04-29 16:23:56\u001b[0m [\u001b[32m\u001b[1minfo     \u001b[0m] \u001b[1mDoubleDQN_20230429162227: epoch=1 step=31030\u001b[0m \u001b[36mepoch\u001b[0m=\u001b[35m1\u001b[0m \u001b[36mmetrics\u001b[0m=\u001b[35m{'time_sample_batch': 9.287397130781168e-05, 'time_algorithm_update': 0.002415872887953458, 'loss': 0.00422055020380791, 'time_step': 0.002824943049507989}\u001b[0m \u001b[36mstep\u001b[0m=\u001b[35m31030\u001b[0m\n",
      "\u001b[2m2023-04-29 16:23:56\u001b[0m [\u001b[32m\u001b[1minfo     \u001b[0m] \u001b[1mModel parameters are saved to d3rlpy_logs/DoubleDQN_20230429162227/model_31030.pt\u001b[0m\n"
     ]
    },
    {
     "name": "stderr",
     "output_type": "stream",
     "text": [
      "Epoch 2/10: 100%|██████████| 31030/31030 [01:34<00:00, 329.70it/s, loss=0.00976]\n"
     ]
    },
    {
     "name": "stdout",
     "output_type": "stream",
     "text": [
      "\u001b[2m2023-04-29 16:25:30\u001b[0m [\u001b[32m\u001b[1minfo     \u001b[0m] \u001b[1mDoubleDQN_20230429162227: epoch=2 step=62060\u001b[0m \u001b[36mepoch\u001b[0m=\u001b[35m2\u001b[0m \u001b[36mmetrics\u001b[0m=\u001b[35m{'time_sample_batch': 9.575201317912873e-05, 'time_algorithm_update': 0.002578483241010857, 'loss': 0.00975406568491086, 'time_step': 0.0029944322203729295}\u001b[0m \u001b[36mstep\u001b[0m=\u001b[35m62060\u001b[0m\n",
      "\u001b[2m2023-04-29 16:25:30\u001b[0m [\u001b[32m\u001b[1minfo     \u001b[0m] \u001b[1mModel parameters are saved to d3rlpy_logs/DoubleDQN_20230429162227/model_62060.pt\u001b[0m\n"
     ]
    },
    {
     "name": "stderr",
     "output_type": "stream",
     "text": [
      "Epoch 3/10: 100%|██████████| 31030/31030 [01:29<00:00, 346.48it/s, loss=0.0169]\n"
     ]
    },
    {
     "name": "stdout",
     "output_type": "stream",
     "text": [
      "\u001b[2m2023-04-29 16:26:59\u001b[0m [\u001b[32m\u001b[1minfo     \u001b[0m] \u001b[1mDoubleDQN_20230429162227: epoch=3 step=93090\u001b[0m \u001b[36mepoch\u001b[0m=\u001b[35m3\u001b[0m \u001b[36mmetrics\u001b[0m=\u001b[35m{'time_sample_batch': 9.115620501533924e-05, 'time_algorithm_update': 0.002445564744858983, 'loss': 0.016911206239976048, 'time_step': 0.00285105949596094}\u001b[0m \u001b[36mstep\u001b[0m=\u001b[35m93090\u001b[0m\n",
      "\u001b[2m2023-04-29 16:26:59\u001b[0m [\u001b[32m\u001b[1minfo     \u001b[0m] \u001b[1mModel parameters are saved to d3rlpy_logs/DoubleDQN_20230429162227/model_93090.pt\u001b[0m\n"
     ]
    },
    {
     "name": "stderr",
     "output_type": "stream",
     "text": [
      "Epoch 4/10: 100%|██████████| 31030/31030 [01:31<00:00, 340.81it/s, loss=0.0237]\n"
     ]
    },
    {
     "name": "stdout",
     "output_type": "stream",
     "text": [
      "\u001b[2m2023-04-29 16:28:31\u001b[0m [\u001b[32m\u001b[1minfo     \u001b[0m] \u001b[1mDoubleDQN_20230429162227: epoch=4 step=124120\u001b[0m \u001b[36mepoch\u001b[0m=\u001b[35m4\u001b[0m \u001b[36mmetrics\u001b[0m=\u001b[35m{'time_sample_batch': 9.174165593552043e-05, 'time_algorithm_update': 0.0024879005237275695, 'loss': 0.023691736998896498, 'time_step': 0.0028985238712985707}\u001b[0m \u001b[36mstep\u001b[0m=\u001b[35m124120\u001b[0m\n",
      "\u001b[2m2023-04-29 16:28:31\u001b[0m [\u001b[32m\u001b[1minfo     \u001b[0m] \u001b[1mModel parameters are saved to d3rlpy_logs/DoubleDQN_20230429162227/model_124120.pt\u001b[0m\n"
     ]
    },
    {
     "name": "stderr",
     "output_type": "stream",
     "text": [
      "Epoch 5/10: 100%|██████████| 31030/31030 [01:31<00:00, 338.30it/s, loss=0.0302]\n"
     ]
    },
    {
     "name": "stdout",
     "output_type": "stream",
     "text": [
      "\u001b[2m2023-04-29 16:30:02\u001b[0m [\u001b[32m\u001b[1minfo     \u001b[0m] \u001b[1mDoubleDQN_20230429162227: epoch=5 step=155150\u001b[0m \u001b[36mepoch\u001b[0m=\u001b[35m5\u001b[0m \u001b[36mmetrics\u001b[0m=\u001b[35m{'time_sample_batch': 9.220057520373114e-05, 'time_algorithm_update': 0.0025076520085680534, 'loss': 0.030215209592380048, 'time_step': 0.0029196800049988638}\u001b[0m \u001b[36mstep\u001b[0m=\u001b[35m155150\u001b[0m\n",
      "\u001b[2m2023-04-29 16:30:02\u001b[0m [\u001b[32m\u001b[1minfo     \u001b[0m] \u001b[1mModel parameters are saved to d3rlpy_logs/DoubleDQN_20230429162227/model_155150.pt\u001b[0m\n"
     ]
    },
    {
     "name": "stderr",
     "output_type": "stream",
     "text": [
      "Epoch 6/10: 100%|██████████| 31030/31030 [01:31<00:00, 339.04it/s, loss=0.0365]\n"
     ]
    },
    {
     "name": "stdout",
     "output_type": "stream",
     "text": [
      "\u001b[2m2023-04-29 16:31:34\u001b[0m [\u001b[32m\u001b[1minfo     \u001b[0m] \u001b[1mDoubleDQN_20230429162227: epoch=6 step=186180\u001b[0m \u001b[36mepoch\u001b[0m=\u001b[35m6\u001b[0m \u001b[36mmetrics\u001b[0m=\u001b[35m{'time_sample_batch': 9.348304126480108e-05, 'time_algorithm_update': 0.002498792572402585, 'loss': 0.036493314728888476, 'time_step': 0.002913359161964586}\u001b[0m \u001b[36mstep\u001b[0m=\u001b[35m186180\u001b[0m\n",
      "\u001b[2m2023-04-29 16:31:34\u001b[0m [\u001b[32m\u001b[1minfo     \u001b[0m] \u001b[1mModel parameters are saved to d3rlpy_logs/DoubleDQN_20230429162227/model_186180.pt\u001b[0m\n"
     ]
    },
    {
     "name": "stderr",
     "output_type": "stream",
     "text": [
      "Epoch 7/10: 100%|██████████| 31030/31030 [01:32<00:00, 336.71it/s, loss=0.0426]\n"
     ]
    },
    {
     "name": "stdout",
     "output_type": "stream",
     "text": [
      "\u001b[2m2023-04-29 16:33:06\u001b[0m [\u001b[32m\u001b[1minfo     \u001b[0m] \u001b[1mDoubleDQN_20230429162227: epoch=7 step=217210\u001b[0m \u001b[36mepoch\u001b[0m=\u001b[35m7\u001b[0m \u001b[36mmetrics\u001b[0m=\u001b[35m{'time_sample_batch': 9.151012176012094e-05, 'time_algorithm_update': 0.0025207877504875536, 'loss': 0.04262815804088402, 'time_step': 0.0029335310257061274}\u001b[0m \u001b[36mstep\u001b[0m=\u001b[35m217210\u001b[0m\n",
      "\u001b[2m2023-04-29 16:33:06\u001b[0m [\u001b[32m\u001b[1minfo     \u001b[0m] \u001b[1mModel parameters are saved to d3rlpy_logs/DoubleDQN_20230429162227/model_217210.pt\u001b[0m\n"
     ]
    },
    {
     "name": "stderr",
     "output_type": "stream",
     "text": [
      "Epoch 8/10: 100%|██████████| 31030/31030 [01:31<00:00, 340.05it/s, loss=0.0485]\n"
     ]
    },
    {
     "name": "stdout",
     "output_type": "stream",
     "text": [
      "\u001b[2m2023-04-29 16:34:37\u001b[0m [\u001b[32m\u001b[1minfo     \u001b[0m] \u001b[1mDoubleDQN_20230429162227: epoch=8 step=248240\u001b[0m \u001b[36mepoch\u001b[0m=\u001b[35m8\u001b[0m \u001b[36mmetrics\u001b[0m=\u001b[35m{'time_sample_batch': 9.153837393915273e-05, 'time_algorithm_update': 0.0024910304840633727, 'loss': 0.04850549309350535, 'time_step': 0.002903525774762433}\u001b[0m \u001b[36mstep\u001b[0m=\u001b[35m248240\u001b[0m\n",
      "\u001b[2m2023-04-29 16:34:37\u001b[0m [\u001b[32m\u001b[1minfo     \u001b[0m] \u001b[1mModel parameters are saved to d3rlpy_logs/DoubleDQN_20230429162227/model_248240.pt\u001b[0m\n"
     ]
    },
    {
     "name": "stderr",
     "output_type": "stream",
     "text": [
      "Epoch 9/10: 100%|██████████| 31030/31030 [01:32<00:00, 336.52it/s, loss=0.0542]\n"
     ]
    },
    {
     "name": "stdout",
     "output_type": "stream",
     "text": [
      "\u001b[2m2023-04-29 16:36:10\u001b[0m [\u001b[32m\u001b[1minfo     \u001b[0m] \u001b[1mDoubleDQN_20230429162227: epoch=9 step=279270\u001b[0m \u001b[36mepoch\u001b[0m=\u001b[35m9\u001b[0m \u001b[36mmetrics\u001b[0m=\u001b[35m{'time_sample_batch': 9.175624687595595e-05, 'time_algorithm_update': 0.0025213305811093694, 'loss': 0.05415236951252971, 'time_step': 0.002935330890049444}\u001b[0m \u001b[36mstep\u001b[0m=\u001b[35m279270\u001b[0m\n",
      "\u001b[2m2023-04-29 16:36:10\u001b[0m [\u001b[32m\u001b[1minfo     \u001b[0m] \u001b[1mModel parameters are saved to d3rlpy_logs/DoubleDQN_20230429162227/model_279270.pt\u001b[0m\n"
     ]
    },
    {
     "name": "stderr",
     "output_type": "stream",
     "text": [
      "Epoch 10/10: 100%|██████████| 31030/31030 [01:32<00:00, 336.93it/s, loss=0.0596]\n"
     ]
    },
    {
     "name": "stdout",
     "output_type": "stream",
     "text": [
      "\u001b[2m2023-04-29 16:37:42\u001b[0m [\u001b[32m\u001b[1minfo     \u001b[0m] \u001b[1mDoubleDQN_20230429162227: epoch=10 step=310300\u001b[0m \u001b[36mepoch\u001b[0m=\u001b[35m10\u001b[0m \u001b[36mmetrics\u001b[0m=\u001b[35m{'time_sample_batch': 9.22506408002966e-05, 'time_algorithm_update': 0.002517748032698046, 'loss': 0.05963263140782997, 'time_step': 0.00293206251939189}\u001b[0m \u001b[36mstep\u001b[0m=\u001b[35m310300\u001b[0m\n",
      "\u001b[2m2023-04-29 16:37:42\u001b[0m [\u001b[32m\u001b[1minfo     \u001b[0m] \u001b[1mModel parameters are saved to d3rlpy_logs/DoubleDQN_20230429162227/model_310300.pt\u001b[0m\n"
     ]
    }
   ],
   "source": [
    "ddqn_01 = train_ddqn(mem2)"
   ]
  },
  {
   "cell_type": "code",
   "execution_count": 16,
   "metadata": {},
   "outputs": [
    {
     "name": "stdout",
     "output_type": "stream",
     "text": [
      "\u001b[2m2023-04-29 16:37:46\u001b[0m [\u001b[32m\u001b[1mdebug    \u001b[0m] \u001b[1mRoundIterator is selected.\u001b[0m\n",
      "\u001b[2m2023-04-29 16:37:46\u001b[0m [\u001b[32m\u001b[1minfo     \u001b[0m] \u001b[1mDirectory is created at d3rlpy_logs/DiscreteBC_20230429163746\u001b[0m\n",
      "\u001b[2m2023-04-29 16:37:46\u001b[0m [\u001b[32m\u001b[1mdebug    \u001b[0m] \u001b[1mBuilding models...\u001b[0m\n",
      "\u001b[2m2023-04-29 16:37:46\u001b[0m [\u001b[32m\u001b[1mdebug    \u001b[0m] \u001b[1mModels have been built.\u001b[0m\n",
      "\u001b[2m2023-04-29 16:37:46\u001b[0m [\u001b[32m\u001b[1minfo     \u001b[0m] \u001b[1mParameters are saved to d3rlpy_logs/DiscreteBC_20230429163746/params.json\u001b[0m \u001b[36mparams\u001b[0m=\u001b[35m{'action_scaler': None, 'batch_size': 100, 'beta': 0.5, 'encoder_factory': {'type': 'default', 'params': {'activation': 'relu', 'use_batch_norm': False, 'dropout_rate': None}}, 'gamma': 1.0, 'generated_maxlen': 100000, 'learning_rate': 0.0001, 'n_frames': 1, 'n_steps': 1, 'optim_factory': {'optim_cls': 'Adam', 'betas': (0.9, 0.999), 'eps': 1e-08, 'weight_decay': 0, 'amsgrad': False}, 'real_ratio': 1.0, 'reward_scaler': None, 'scaler': None, 'use_gpu': None, 'algorithm': 'DiscreteBC', 'observation_shape': (2,), 'action_size': 2}\u001b[0m\n"
     ]
    },
    {
     "name": "stderr",
     "output_type": "stream",
     "text": [
      "Epoch 1/10: 100%|██████████| 9929/9929 [00:26<00:00, 369.97it/s, loss=0.693]"
     ]
    },
    {
     "name": "stdout",
     "output_type": "stream",
     "text": [
      "\u001b[2m2023-04-29 16:38:13\u001b[0m [\u001b[32m\u001b[1minfo     \u001b[0m] \u001b[1mDiscreteBC_20230429163746: epoch=1 step=9929\u001b[0m \u001b[36mepoch\u001b[0m=\u001b[35m1\u001b[0m \u001b[36mmetrics\u001b[0m=\u001b[35m{'time_sample_batch': 0.0002005981503326327, 'time_algorithm_update': 0.002285611630686701, 'loss': 0.6932947581562826, 'time_step': 0.002666139905216687}\u001b[0m \u001b[36mstep\u001b[0m=\u001b[35m9929\u001b[0m\n",
      "\u001b[2m2023-04-29 16:38:13\u001b[0m [\u001b[32m\u001b[1minfo     \u001b[0m] \u001b[1mModel parameters are saved to d3rlpy_logs/DiscreteBC_20230429163746/model_9929.pt\u001b[0m\n"
     ]
    },
    {
     "name": "stderr",
     "output_type": "stream",
     "text": [
      "\n",
      "Epoch 2/10: 100%|██████████| 9929/9929 [00:25<00:00, 384.77it/s, loss=0.693]\n"
     ]
    },
    {
     "name": "stdout",
     "output_type": "stream",
     "text": [
      "\u001b[2m2023-04-29 16:38:39\u001b[0m [\u001b[32m\u001b[1minfo     \u001b[0m] \u001b[1mDiscreteBC_20230429163746: epoch=2 step=19858\u001b[0m \u001b[36mepoch\u001b[0m=\u001b[35m2\u001b[0m \u001b[36mmetrics\u001b[0m=\u001b[35m{'time_sample_batch': 0.00018868680230343447, 'time_algorithm_update': 0.00220289618386184, 'loss': 0.6931569124831332, 'time_step': 0.0025652366434174706}\u001b[0m \u001b[36mstep\u001b[0m=\u001b[35m19858\u001b[0m\n",
      "\u001b[2m2023-04-29 16:38:39\u001b[0m [\u001b[32m\u001b[1minfo     \u001b[0m] \u001b[1mModel parameters are saved to d3rlpy_logs/DiscreteBC_20230429163746/model_19858.pt\u001b[0m\n"
     ]
    },
    {
     "name": "stderr",
     "output_type": "stream",
     "text": [
      "Epoch 3/10: 100%|██████████| 9929/9929 [00:27<00:00, 367.72it/s, loss=0.693]\n"
     ]
    },
    {
     "name": "stdout",
     "output_type": "stream",
     "text": [
      "\u001b[2m2023-04-29 16:39:06\u001b[0m [\u001b[32m\u001b[1minfo     \u001b[0m] \u001b[1mDiscreteBC_20230429163746: epoch=3 step=29787\u001b[0m \u001b[36mepoch\u001b[0m=\u001b[35m3\u001b[0m \u001b[36mmetrics\u001b[0m=\u001b[35m{'time_sample_batch': 0.00019379115462459242, 'time_algorithm_update': 0.0023162519599222225, 'loss': 0.6931035928657041, 'time_step': 0.0026828607819882125}\u001b[0m \u001b[36mstep\u001b[0m=\u001b[35m29787\u001b[0m\n",
      "\u001b[2m2023-04-29 16:39:06\u001b[0m [\u001b[32m\u001b[1minfo     \u001b[0m] \u001b[1mModel parameters are saved to d3rlpy_logs/DiscreteBC_20230429163746/model_29787.pt\u001b[0m\n"
     ]
    },
    {
     "name": "stderr",
     "output_type": "stream",
     "text": [
      "Epoch 4/10: 100%|██████████| 9929/9929 [00:26<00:00, 379.31it/s, loss=0.693]\n"
     ]
    },
    {
     "name": "stdout",
     "output_type": "stream",
     "text": [
      "\u001b[2m2023-04-29 16:39:32\u001b[0m [\u001b[32m\u001b[1minfo     \u001b[0m] \u001b[1mDiscreteBC_20230429163746: epoch=4 step=39716\u001b[0m \u001b[36mepoch\u001b[0m=\u001b[35m4\u001b[0m \u001b[36mmetrics\u001b[0m=\u001b[35m{'time_sample_batch': 0.00018791828718366958, 'time_algorithm_update': 0.002241564584602005, 'loss': 0.6929541396247091, 'time_step': 0.002603621050146654}\u001b[0m \u001b[36mstep\u001b[0m=\u001b[35m39716\u001b[0m\n",
      "\u001b[2m2023-04-29 16:39:32\u001b[0m [\u001b[32m\u001b[1minfo     \u001b[0m] \u001b[1mModel parameters are saved to d3rlpy_logs/DiscreteBC_20230429163746/model_39716.pt\u001b[0m\n"
     ]
    },
    {
     "name": "stderr",
     "output_type": "stream",
     "text": [
      "Epoch 5/10: 100%|██████████| 9929/9929 [00:25<00:00, 387.41it/s, loss=0.693]\n"
     ]
    },
    {
     "name": "stdout",
     "output_type": "stream",
     "text": [
      "\u001b[2m2023-04-29 16:39:58\u001b[0m [\u001b[32m\u001b[1minfo     \u001b[0m] \u001b[1mDiscreteBC_20230429163746: epoch=5 step=49645\u001b[0m \u001b[36mepoch\u001b[0m=\u001b[35m5\u001b[0m \u001b[36mmetrics\u001b[0m=\u001b[35m{'time_sample_batch': 0.00018391783041276413, 'time_algorithm_update': 0.002193360065018762, 'loss': 0.6926262465197102, 'time_step': 0.002548755553928744}\u001b[0m \u001b[36mstep\u001b[0m=\u001b[35m49645\u001b[0m\n",
      "\u001b[2m2023-04-29 16:39:58\u001b[0m [\u001b[32m\u001b[1minfo     \u001b[0m] \u001b[1mModel parameters are saved to d3rlpy_logs/DiscreteBC_20230429163746/model_49645.pt\u001b[0m\n"
     ]
    },
    {
     "name": "stderr",
     "output_type": "stream",
     "text": [
      "Epoch 6/10: 100%|██████████| 9929/9929 [00:26<00:00, 373.21it/s, loss=0.692]\n"
     ]
    },
    {
     "name": "stdout",
     "output_type": "stream",
     "text": [
      "\u001b[2m2023-04-29 16:40:24\u001b[0m [\u001b[32m\u001b[1minfo     \u001b[0m] \u001b[1mDiscreteBC_20230429163746: epoch=6 step=59574\u001b[0m \u001b[36mepoch\u001b[0m=\u001b[35m6\u001b[0m \u001b[36mmetrics\u001b[0m=\u001b[35m{'time_sample_batch': 0.0001913330828462774, 'time_algorithm_update': 0.0022826605854539645, 'loss': 0.692231036016547, 'time_step': 0.0026458355460549686}\u001b[0m \u001b[36mstep\u001b[0m=\u001b[35m59574\u001b[0m\n",
      "\u001b[2m2023-04-29 16:40:24\u001b[0m [\u001b[32m\u001b[1minfo     \u001b[0m] \u001b[1mModel parameters are saved to d3rlpy_logs/DiscreteBC_20230429163746/model_59574.pt\u001b[0m\n"
     ]
    },
    {
     "name": "stderr",
     "output_type": "stream",
     "text": [
      "Epoch 7/10: 100%|██████████| 9929/9929 [00:25<00:00, 386.24it/s, loss=0.692]\n"
     ]
    },
    {
     "name": "stdout",
     "output_type": "stream",
     "text": [
      "\u001b[2m2023-04-29 16:40:50\u001b[0m [\u001b[32m\u001b[1minfo     \u001b[0m] \u001b[1mDiscreteBC_20230429163746: epoch=7 step=69503\u001b[0m \u001b[36mepoch\u001b[0m=\u001b[35m7\u001b[0m \u001b[36mmetrics\u001b[0m=\u001b[35m{'time_sample_batch': 0.0001819772006690004, 'time_algorithm_update': 0.0022042496877442267, 'loss': 0.6919661333390696, 'time_step': 0.0025575516603062406}\u001b[0m \u001b[36mstep\u001b[0m=\u001b[35m69503\u001b[0m\n",
      "\u001b[2m2023-04-29 16:40:50\u001b[0m [\u001b[32m\u001b[1minfo     \u001b[0m] \u001b[1mModel parameters are saved to d3rlpy_logs/DiscreteBC_20230429163746/model_69503.pt\u001b[0m\n"
     ]
    },
    {
     "name": "stderr",
     "output_type": "stream",
     "text": [
      "Epoch 8/10: 100%|██████████| 9929/9929 [00:27<00:00, 356.64it/s, loss=0.692]\n"
     ]
    },
    {
     "name": "stdout",
     "output_type": "stream",
     "text": [
      "\u001b[2m2023-04-29 16:41:18\u001b[0m [\u001b[32m\u001b[1minfo     \u001b[0m] \u001b[1mDiscreteBC_20230429163746: epoch=8 step=79432\u001b[0m \u001b[36mepoch\u001b[0m=\u001b[35m8\u001b[0m \u001b[36mmetrics\u001b[0m=\u001b[35m{'time_sample_batch': 0.0001905792632819975, 'time_algorithm_update': 0.0024053107960993266, 'loss': 0.6918577929375839, 'time_step': 0.0027688015670691846}\u001b[0m \u001b[36mstep\u001b[0m=\u001b[35m79432\u001b[0m\n",
      "\u001b[2m2023-04-29 16:41:18\u001b[0m [\u001b[32m\u001b[1minfo     \u001b[0m] \u001b[1mModel parameters are saved to d3rlpy_logs/DiscreteBC_20230429163746/model_79432.pt\u001b[0m\n"
     ]
    },
    {
     "name": "stderr",
     "output_type": "stream",
     "text": [
      "Epoch 9/10: 100%|██████████| 9929/9929 [00:28<00:00, 353.74it/s, loss=0.692]\n"
     ]
    },
    {
     "name": "stdout",
     "output_type": "stream",
     "text": [
      "\u001b[2m2023-04-29 16:41:46\u001b[0m [\u001b[32m\u001b[1minfo     \u001b[0m] \u001b[1mDiscreteBC_20230429163746: epoch=9 step=89361\u001b[0m \u001b[36mepoch\u001b[0m=\u001b[35m9\u001b[0m \u001b[36mmetrics\u001b[0m=\u001b[35m{'time_sample_batch': 0.00018846970668719344, 'time_algorithm_update': 0.0024278959679044088, 'loss': 0.6917758036420981, 'time_step': 0.0027912187485047034}\u001b[0m \u001b[36mstep\u001b[0m=\u001b[35m89361\u001b[0m\n",
      "\u001b[2m2023-04-29 16:41:46\u001b[0m [\u001b[32m\u001b[1minfo     \u001b[0m] \u001b[1mModel parameters are saved to d3rlpy_logs/DiscreteBC_20230429163746/model_89361.pt\u001b[0m\n"
     ]
    },
    {
     "name": "stderr",
     "output_type": "stream",
     "text": [
      "Epoch 10/10: 100%|██████████| 9929/9929 [00:29<00:00, 341.88it/s, loss=0.692]\n"
     ]
    },
    {
     "name": "stdout",
     "output_type": "stream",
     "text": [
      "\u001b[2m2023-04-29 16:42:15\u001b[0m [\u001b[32m\u001b[1minfo     \u001b[0m] \u001b[1mDiscreteBC_20230429163746: epoch=10 step=99290\u001b[0m \u001b[36mepoch\u001b[0m=\u001b[35m10\u001b[0m \u001b[36mmetrics\u001b[0m=\u001b[35m{'time_sample_batch': 0.00019142543432731525, 'time_algorithm_update': 0.002518117337779632, 'loss': 0.6917333197396788, 'time_step': 0.002886136476937612}\u001b[0m \u001b[36mstep\u001b[0m=\u001b[35m99290\u001b[0m\n",
      "\u001b[2m2023-04-29 16:42:15\u001b[0m [\u001b[32m\u001b[1minfo     \u001b[0m] \u001b[1mModel parameters are saved to d3rlpy_logs/DiscreteBC_20230429163746/model_99290.pt\u001b[0m\n"
     ]
    }
   ],
   "source": [
    "bc_01 = train_bc(mem2)"
   ]
  },
  {
   "cell_type": "code",
   "execution_count": 17,
   "metadata": {},
   "outputs": [
    {
     "name": "stdout",
     "output_type": "stream",
     "text": [
      "\u001b[2m2023-04-29 16:42:26\u001b[0m [\u001b[32m\u001b[1mdebug    \u001b[0m] \u001b[1mRoundIterator is selected.\u001b[0m\n",
      "\u001b[2m2023-04-29 16:42:26\u001b[0m [\u001b[32m\u001b[1minfo     \u001b[0m] \u001b[1mDirectory is created at d3rlpy_logs/DiscreteBC_20230429164226\u001b[0m\n",
      "\u001b[2m2023-04-29 16:42:26\u001b[0m [\u001b[32m\u001b[1mdebug    \u001b[0m] \u001b[1mBuilding models...\u001b[0m\n",
      "\u001b[2m2023-04-29 16:42:26\u001b[0m [\u001b[32m\u001b[1mdebug    \u001b[0m] \u001b[1mModels have been built.\u001b[0m\n",
      "\u001b[2m2023-04-29 16:42:26\u001b[0m [\u001b[32m\u001b[1minfo     \u001b[0m] \u001b[1mParameters are saved to d3rlpy_logs/DiscreteBC_20230429164226/params.json\u001b[0m \u001b[36mparams\u001b[0m=\u001b[35m{'action_scaler': None, 'batch_size': 100, 'beta': 0.5, 'encoder_factory': {'type': 'default', 'params': {'activation': 'relu', 'use_batch_norm': False, 'dropout_rate': None}}, 'gamma': 1.0, 'generated_maxlen': 100000, 'learning_rate': 0.0001, 'n_frames': 1, 'n_steps': 1, 'optim_factory': {'optim_cls': 'Adam', 'betas': (0.9, 0.999), 'eps': 1e-08, 'weight_decay': 0, 'amsgrad': False}, 'real_ratio': 1.0, 'reward_scaler': None, 'scaler': None, 'use_gpu': None, 'algorithm': 'DiscreteBC', 'observation_shape': (2,), 'action_size': 2}\u001b[0m\n"
     ]
    },
    {
     "name": "stderr",
     "output_type": "stream",
     "text": [
      "Epoch 1/10: 100%|██████████| 9929/9929 [00:23<00:00, 419.16it/s, loss=0.6]  \n"
     ]
    },
    {
     "name": "stdout",
     "output_type": "stream",
     "text": [
      "\u001b[2m2023-04-29 16:42:50\u001b[0m [\u001b[32m\u001b[1minfo     \u001b[0m] \u001b[1mDiscreteBC_20230429164226: epoch=1 step=9929\u001b[0m \u001b[36mepoch\u001b[0m=\u001b[35m1\u001b[0m \u001b[36mmetrics\u001b[0m=\u001b[35m{'time_sample_batch': 0.00018643787805497892, 'time_algorithm_update': 0.0019950543252924007, 'loss': 0.600304211659162, 'time_step': 0.0023544427070844353}\u001b[0m \u001b[36mstep\u001b[0m=\u001b[35m9929\u001b[0m\n",
      "\u001b[2m2023-04-29 16:42:50\u001b[0m [\u001b[32m\u001b[1minfo     \u001b[0m] \u001b[1mModel parameters are saved to d3rlpy_logs/DiscreteBC_20230429164226/model_9929.pt\u001b[0m\n"
     ]
    },
    {
     "name": "stderr",
     "output_type": "stream",
     "text": [
      "Epoch 2/10: 100%|██████████| 9929/9929 [00:24<00:00, 409.93it/s, loss=0.59] \n"
     ]
    },
    {
     "name": "stdout",
     "output_type": "stream",
     "text": [
      "\u001b[2m2023-04-29 16:43:14\u001b[0m [\u001b[32m\u001b[1minfo     \u001b[0m] \u001b[1mDiscreteBC_20230429164226: epoch=2 step=19858\u001b[0m \u001b[36mepoch\u001b[0m=\u001b[35m2\u001b[0m \u001b[36mmetrics\u001b[0m=\u001b[35m{'time_sample_batch': 0.0001880733348989741, 'time_algorithm_update': 0.0020472596378193868, 'loss': 0.5896864664531785, 'time_step': 0.0024067141015864124}\u001b[0m \u001b[36mstep\u001b[0m=\u001b[35m19858\u001b[0m\n",
      "\u001b[2m2023-04-29 16:43:14\u001b[0m [\u001b[32m\u001b[1minfo     \u001b[0m] \u001b[1mModel parameters are saved to d3rlpy_logs/DiscreteBC_20230429164226/model_19858.pt\u001b[0m\n"
     ]
    },
    {
     "name": "stderr",
     "output_type": "stream",
     "text": [
      "Epoch 3/10: 100%|██████████| 9929/9929 [00:24<00:00, 405.05it/s, loss=0.586]\n"
     ]
    },
    {
     "name": "stdout",
     "output_type": "stream",
     "text": [
      "\u001b[2m2023-04-29 16:43:39\u001b[0m [\u001b[32m\u001b[1minfo     \u001b[0m] \u001b[1mDiscreteBC_20230429164226: epoch=3 step=29787\u001b[0m \u001b[36mepoch\u001b[0m=\u001b[35m3\u001b[0m \u001b[36mmetrics\u001b[0m=\u001b[35m{'time_sample_batch': 0.0001902252972960436, 'time_algorithm_update': 0.002072112199366663, 'loss': 0.5863435118505033, 'time_step': 0.0024354893439173133}\u001b[0m \u001b[36mstep\u001b[0m=\u001b[35m29787\u001b[0m\n",
      "\u001b[2m2023-04-29 16:43:39\u001b[0m [\u001b[32m\u001b[1minfo     \u001b[0m] \u001b[1mModel parameters are saved to d3rlpy_logs/DiscreteBC_20230429164226/model_29787.pt\u001b[0m\n"
     ]
    },
    {
     "name": "stderr",
     "output_type": "stream",
     "text": [
      "Epoch 4/10: 100%|██████████| 9929/9929 [00:24<00:00, 406.66it/s, loss=0.584]\n"
     ]
    },
    {
     "name": "stdout",
     "output_type": "stream",
     "text": [
      "\u001b[2m2023-04-29 16:44:03\u001b[0m [\u001b[32m\u001b[1minfo     \u001b[0m] \u001b[1mDiscreteBC_20230429164226: epoch=4 step=39716\u001b[0m \u001b[36mepoch\u001b[0m=\u001b[35m4\u001b[0m \u001b[36mmetrics\u001b[0m=\u001b[35m{'time_sample_batch': 0.00018965500408890673, 'time_algorithm_update': 0.00206358594372861, 'loss': 0.5842173931365503, 'time_step': 0.002426119942789484}\u001b[0m \u001b[36mstep\u001b[0m=\u001b[35m39716\u001b[0m\n",
      "\u001b[2m2023-04-29 16:44:03\u001b[0m [\u001b[32m\u001b[1minfo     \u001b[0m] \u001b[1mModel parameters are saved to d3rlpy_logs/DiscreteBC_20230429164226/model_39716.pt\u001b[0m\n"
     ]
    },
    {
     "name": "stderr",
     "output_type": "stream",
     "text": [
      "Epoch 5/10: 100%|██████████| 9929/9929 [00:23<00:00, 416.73it/s, loss=0.583]\n"
     ]
    },
    {
     "name": "stdout",
     "output_type": "stream",
     "text": [
      "\u001b[2m2023-04-29 16:44:27\u001b[0m [\u001b[32m\u001b[1minfo     \u001b[0m] \u001b[1mDiscreteBC_20230429164226: epoch=5 step=49645\u001b[0m \u001b[36mepoch\u001b[0m=\u001b[35m5\u001b[0m \u001b[36mmetrics\u001b[0m=\u001b[35m{'time_sample_batch': 0.00018576190651501637, 'time_algorithm_update': 0.0020048119580233035, 'loss': 0.5826671485970994, 'time_step': 0.0023651796353044603}\u001b[0m \u001b[36mstep\u001b[0m=\u001b[35m49645\u001b[0m\n",
      "\u001b[2m2023-04-29 16:44:27\u001b[0m [\u001b[32m\u001b[1minfo     \u001b[0m] \u001b[1mModel parameters are saved to d3rlpy_logs/DiscreteBC_20230429164226/model_49645.pt\u001b[0m\n"
     ]
    },
    {
     "name": "stderr",
     "output_type": "stream",
     "text": [
      "Epoch 6/10: 100%|██████████| 9929/9929 [00:23<00:00, 418.30it/s, loss=0.582]\n"
     ]
    },
    {
     "name": "stdout",
     "output_type": "stream",
     "text": [
      "\u001b[2m2023-04-29 16:44:51\u001b[0m [\u001b[32m\u001b[1minfo     \u001b[0m] \u001b[1mDiscreteBC_20230429164226: epoch=6 step=59574\u001b[0m \u001b[36mepoch\u001b[0m=\u001b[35m6\u001b[0m \u001b[36mmetrics\u001b[0m=\u001b[35m{'time_sample_batch': 0.000185284973307431, 'time_algorithm_update': 0.0019989932384216267, 'loss': 0.5816064901685221, 'time_step': 0.0023593551527398486}\u001b[0m \u001b[36mstep\u001b[0m=\u001b[35m59574\u001b[0m\n",
      "\u001b[2m2023-04-29 16:44:51\u001b[0m [\u001b[32m\u001b[1minfo     \u001b[0m] \u001b[1mModel parameters are saved to d3rlpy_logs/DiscreteBC_20230429164226/model_59574.pt\u001b[0m\n"
     ]
    },
    {
     "name": "stderr",
     "output_type": "stream",
     "text": [
      "Epoch 7/10: 100%|██████████| 9929/9929 [00:24<00:00, 413.23it/s, loss=0.581]\n"
     ]
    },
    {
     "name": "stdout",
     "output_type": "stream",
     "text": [
      "\u001b[2m2023-04-29 16:45:15\u001b[0m [\u001b[32m\u001b[1minfo     \u001b[0m] \u001b[1mDiscreteBC_20230429164226: epoch=7 step=69503\u001b[0m \u001b[36mepoch\u001b[0m=\u001b[35m7\u001b[0m \u001b[36mmetrics\u001b[0m=\u001b[35m{'time_sample_batch': 0.0001848556325687528, 'time_algorithm_update': 0.0020291222007460244, 'loss': 0.5808659521867554, 'time_step': 0.002388184999144561}\u001b[0m \u001b[36mstep\u001b[0m=\u001b[35m69503\u001b[0m\n",
      "\u001b[2m2023-04-29 16:45:15\u001b[0m [\u001b[32m\u001b[1minfo     \u001b[0m] \u001b[1mModel parameters are saved to d3rlpy_logs/DiscreteBC_20230429164226/model_69503.pt\u001b[0m\n"
     ]
    },
    {
     "name": "stderr",
     "output_type": "stream",
     "text": [
      "Epoch 8/10: 100%|██████████| 9929/9929 [00:24<00:00, 409.89it/s, loss=0.58] \n"
     ]
    },
    {
     "name": "stdout",
     "output_type": "stream",
     "text": [
      "\u001b[2m2023-04-29 16:45:39\u001b[0m [\u001b[32m\u001b[1minfo     \u001b[0m] \u001b[1mDiscreteBC_20230429164226: epoch=8 step=79432\u001b[0m \u001b[36mepoch\u001b[0m=\u001b[35m8\u001b[0m \u001b[36mmetrics\u001b[0m=\u001b[35m{'time_sample_batch': 0.00018415629701655682, 'time_algorithm_update': 0.002049870692251288, 'loss': 0.580288391523172, 'time_step': 0.0024076150688043065}\u001b[0m \u001b[36mstep\u001b[0m=\u001b[35m79432\u001b[0m\n",
      "\u001b[2m2023-04-29 16:45:39\u001b[0m [\u001b[32m\u001b[1minfo     \u001b[0m] \u001b[1mModel parameters are saved to d3rlpy_logs/DiscreteBC_20230429164226/model_79432.pt\u001b[0m\n"
     ]
    },
    {
     "name": "stderr",
     "output_type": "stream",
     "text": [
      "Epoch 9/10: 100%|██████████| 9929/9929 [00:24<00:00, 409.04it/s, loss=0.58]\n"
     ]
    },
    {
     "name": "stdout",
     "output_type": "stream",
     "text": [
      "\u001b[2m2023-04-29 16:46:04\u001b[0m [\u001b[32m\u001b[1minfo     \u001b[0m] \u001b[1mDiscreteBC_20230429164226: epoch=9 step=89361\u001b[0m \u001b[36mepoch\u001b[0m=\u001b[35m9\u001b[0m \u001b[36mmetrics\u001b[0m=\u001b[35m{'time_sample_batch': 0.00018455562232328046, 'time_algorithm_update': 0.002053242986062248, 'loss': 0.5797555893134322, 'time_step': 0.002413010666864806}\u001b[0m \u001b[36mstep\u001b[0m=\u001b[35m89361\u001b[0m\n",
      "\u001b[2m2023-04-29 16:46:04\u001b[0m [\u001b[32m\u001b[1minfo     \u001b[0m] \u001b[1mModel parameters are saved to d3rlpy_logs/DiscreteBC_20230429164226/model_89361.pt\u001b[0m\n"
     ]
    },
    {
     "name": "stderr",
     "output_type": "stream",
     "text": [
      "Epoch 10/10: 100%|██████████| 9929/9929 [00:24<00:00, 406.86it/s, loss=0.579]\n"
     ]
    },
    {
     "name": "stdout",
     "output_type": "stream",
     "text": [
      "\u001b[2m2023-04-29 16:46:28\u001b[0m [\u001b[32m\u001b[1minfo     \u001b[0m] \u001b[1mDiscreteBC_20230429164226: epoch=10 step=99290\u001b[0m \u001b[36mepoch\u001b[0m=\u001b[35m10\u001b[0m \u001b[36mmetrics\u001b[0m=\u001b[35m{'time_sample_batch': 0.00018566268750314733, 'time_algorithm_update': 0.0020652258668688805, 'loss': 0.5793879622298432, 'time_step': 0.002425322372731587}\u001b[0m \u001b[36mstep\u001b[0m=\u001b[35m99290\u001b[0m\n",
      "\u001b[2m2023-04-29 16:46:28\u001b[0m [\u001b[32m\u001b[1minfo     \u001b[0m] \u001b[1mModel parameters are saved to d3rlpy_logs/DiscreteBC_20230429164226/model_99290.pt\u001b[0m\n"
     ]
    }
   ],
   "source": [
    "bc_11 = train_bc(mm2)"
   ]
  },
  {
   "cell_type": "code",
   "execution_count": 18,
   "metadata": {},
   "outputs": [
    {
     "name": "stdout",
     "output_type": "stream",
     "text": [
      "\u001b[2m2023-04-29 16:46:31\u001b[0m [\u001b[32m\u001b[1mdebug    \u001b[0m] \u001b[1mRoundIterator is selected.\u001b[0m\n",
      "\u001b[2m2023-04-29 16:46:31\u001b[0m [\u001b[32m\u001b[1minfo     \u001b[0m] \u001b[1mDirectory is created at d3rlpy_logs/DiscreteBC_20230429164631\u001b[0m\n",
      "\u001b[2m2023-04-29 16:46:31\u001b[0m [\u001b[32m\u001b[1mdebug    \u001b[0m] \u001b[1mBuilding models...\u001b[0m\n",
      "\u001b[2m2023-04-29 16:46:31\u001b[0m [\u001b[32m\u001b[1mdebug    \u001b[0m] \u001b[1mModels have been built.\u001b[0m\n",
      "\u001b[2m2023-04-29 16:46:31\u001b[0m [\u001b[32m\u001b[1minfo     \u001b[0m] \u001b[1mParameters are saved to d3rlpy_logs/DiscreteBC_20230429164631/params.json\u001b[0m \u001b[36mparams\u001b[0m=\u001b[35m{'action_scaler': None, 'batch_size': 100, 'beta': 0.5, 'encoder_factory': {'type': 'default', 'params': {'activation': 'relu', 'use_batch_norm': False, 'dropout_rate': None}}, 'gamma': 1.0, 'generated_maxlen': 100000, 'learning_rate': 0.0001, 'n_frames': 1, 'n_steps': 1, 'optim_factory': {'optim_cls': 'Adam', 'betas': (0.9, 0.999), 'eps': 1e-08, 'weight_decay': 0, 'amsgrad': False}, 'real_ratio': 1.0, 'reward_scaler': None, 'scaler': None, 'use_gpu': None, 'algorithm': 'DiscreteBC', 'observation_shape': (2,), 'action_size': 2}\u001b[0m\n"
     ]
    },
    {
     "name": "stderr",
     "output_type": "stream",
     "text": [
      "Epoch 1/10: 100%|██████████| 9929/9929 [00:23<00:00, 423.72it/s, loss=0.478]\n"
     ]
    },
    {
     "name": "stdout",
     "output_type": "stream",
     "text": [
      "\u001b[2m2023-04-29 16:46:55\u001b[0m [\u001b[32m\u001b[1minfo     \u001b[0m] \u001b[1mDiscreteBC_20230429164631: epoch=1 step=9929\u001b[0m \u001b[36mepoch\u001b[0m=\u001b[35m1\u001b[0m \u001b[36mmetrics\u001b[0m=\u001b[35m{'time_sample_batch': 0.0001863687224997556, 'time_algorithm_update': 0.0019701711720168766, 'loss': 0.4778769190445421, 'time_step': 0.002329063410724875}\u001b[0m \u001b[36mstep\u001b[0m=\u001b[35m9929\u001b[0m\n",
      "\u001b[2m2023-04-29 16:46:55\u001b[0m [\u001b[32m\u001b[1minfo     \u001b[0m] \u001b[1mModel parameters are saved to d3rlpy_logs/DiscreteBC_20230429164631/model_9929.pt\u001b[0m\n"
     ]
    },
    {
     "name": "stderr",
     "output_type": "stream",
     "text": [
      "Epoch 2/10: 100%|██████████| 9929/9929 [00:23<00:00, 418.31it/s, loss=0.45] \n"
     ]
    },
    {
     "name": "stdout",
     "output_type": "stream",
     "text": [
      "\u001b[2m2023-04-29 16:47:18\u001b[0m [\u001b[32m\u001b[1minfo     \u001b[0m] \u001b[1mDiscreteBC_20230429164631: epoch=2 step=19858\u001b[0m \u001b[36mepoch\u001b[0m=\u001b[35m2\u001b[0m \u001b[36mmetrics\u001b[0m=\u001b[35m{'time_sample_batch': 0.00018743611928475132, 'time_algorithm_update': 0.0019991083295939132, 'loss': 0.45018513110639924, 'time_step': 0.0023597131768122027}\u001b[0m \u001b[36mstep\u001b[0m=\u001b[35m19858\u001b[0m\n",
      "\u001b[2m2023-04-29 16:47:18\u001b[0m [\u001b[32m\u001b[1minfo     \u001b[0m] \u001b[1mModel parameters are saved to d3rlpy_logs/DiscreteBC_20230429164631/model_19858.pt\u001b[0m\n"
     ]
    },
    {
     "name": "stderr",
     "output_type": "stream",
     "text": [
      "Epoch 3/10: 100%|██████████| 9929/9929 [00:23<00:00, 420.17it/s, loss=0.447]\n"
     ]
    },
    {
     "name": "stdout",
     "output_type": "stream",
     "text": [
      "\u001b[2m2023-04-29 16:47:42\u001b[0m [\u001b[32m\u001b[1minfo     \u001b[0m] \u001b[1mDiscreteBC_20230429164631: epoch=3 step=29787\u001b[0m \u001b[36mepoch\u001b[0m=\u001b[35m3\u001b[0m \u001b[36mmetrics\u001b[0m=\u001b[35m{'time_sample_batch': 0.0001850084711482655, 'time_algorithm_update': 0.001991240756607017, 'loss': 0.4467075859351345, 'time_step': 0.0023483577145828032}\u001b[0m \u001b[36mstep\u001b[0m=\u001b[35m29787\u001b[0m\n",
      "\u001b[2m2023-04-29 16:47:42\u001b[0m [\u001b[32m\u001b[1minfo     \u001b[0m] \u001b[1mModel parameters are saved to d3rlpy_logs/DiscreteBC_20230429164631/model_29787.pt\u001b[0m\n"
     ]
    },
    {
     "name": "stderr",
     "output_type": "stream",
     "text": [
      "Epoch 4/10: 100%|██████████| 9929/9929 [00:23<00:00, 415.38it/s, loss=0.445]\n"
     ]
    },
    {
     "name": "stdout",
     "output_type": "stream",
     "text": [
      "\u001b[2m2023-04-29 16:48:06\u001b[0m [\u001b[32m\u001b[1minfo     \u001b[0m] \u001b[1mDiscreteBC_20230429164631: epoch=4 step=39716\u001b[0m \u001b[36mepoch\u001b[0m=\u001b[35m4\u001b[0m \u001b[36mmetrics\u001b[0m=\u001b[35m{'time_sample_batch': 0.00018602455355079168, 'time_algorithm_update': 0.002014391779335307, 'loss': 0.4452151988031449, 'time_step': 0.0023750882576642676}\u001b[0m \u001b[36mstep\u001b[0m=\u001b[35m39716\u001b[0m\n",
      "\u001b[2m2023-04-29 16:48:06\u001b[0m [\u001b[32m\u001b[1minfo     \u001b[0m] \u001b[1mModel parameters are saved to d3rlpy_logs/DiscreteBC_20230429164631/model_39716.pt\u001b[0m\n"
     ]
    },
    {
     "name": "stderr",
     "output_type": "stream",
     "text": [
      "Epoch 5/10: 100%|██████████| 9929/9929 [00:23<00:00, 417.92it/s, loss=0.444]\n"
     ]
    },
    {
     "name": "stdout",
     "output_type": "stream",
     "text": [
      "\u001b[2m2023-04-29 16:48:30\u001b[0m [\u001b[32m\u001b[1minfo     \u001b[0m] \u001b[1mDiscreteBC_20230429164631: epoch=5 step=49645\u001b[0m \u001b[36mepoch\u001b[0m=\u001b[35m5\u001b[0m \u001b[36mmetrics\u001b[0m=\u001b[35m{'time_sample_batch': 0.00018627346552490455, 'time_algorithm_update': 0.0020027008886507286, 'loss': 0.4443235237596738, 'time_step': 0.0023612706655701528}\u001b[0m \u001b[36mstep\u001b[0m=\u001b[35m49645\u001b[0m\n",
      "\u001b[2m2023-04-29 16:48:30\u001b[0m [\u001b[32m\u001b[1minfo     \u001b[0m] \u001b[1mModel parameters are saved to d3rlpy_logs/DiscreteBC_20230429164631/model_49645.pt\u001b[0m\n"
     ]
    },
    {
     "name": "stderr",
     "output_type": "stream",
     "text": [
      "Epoch 6/10: 100%|██████████| 9929/9929 [00:23<00:00, 421.46it/s, loss=0.444]\n"
     ]
    },
    {
     "name": "stdout",
     "output_type": "stream",
     "text": [
      "\u001b[2m2023-04-29 16:48:53\u001b[0m [\u001b[32m\u001b[1minfo     \u001b[0m] \u001b[1mDiscreteBC_20230429164631: epoch=6 step=59574\u001b[0m \u001b[36mepoch\u001b[0m=\u001b[35m6\u001b[0m \u001b[36mmetrics\u001b[0m=\u001b[35m{'time_sample_batch': 0.0001853954541093694, 'time_algorithm_update': 0.001981818288195492, 'loss': 0.443722274962215, 'time_step': 0.0023418685462806435}\u001b[0m \u001b[36mstep\u001b[0m=\u001b[35m59574\u001b[0m\n",
      "\u001b[2m2023-04-29 16:48:53\u001b[0m [\u001b[32m\u001b[1minfo     \u001b[0m] \u001b[1mModel parameters are saved to d3rlpy_logs/DiscreteBC_20230429164631/model_59574.pt\u001b[0m\n"
     ]
    },
    {
     "name": "stderr",
     "output_type": "stream",
     "text": [
      "Epoch 7/10: 100%|██████████| 9929/9929 [00:23<00:00, 415.93it/s, loss=0.443]\n"
     ]
    },
    {
     "name": "stdout",
     "output_type": "stream",
     "text": [
      "\u001b[2m2023-04-29 16:49:17\u001b[0m [\u001b[32m\u001b[1minfo     \u001b[0m] \u001b[1mDiscreteBC_20230429164631: epoch=7 step=69503\u001b[0m \u001b[36mepoch\u001b[0m=\u001b[35m7\u001b[0m \u001b[36mmetrics\u001b[0m=\u001b[35m{'time_sample_batch': 0.00018492125830917827, 'time_algorithm_update': 0.0020140828124849395, 'loss': 0.4432543696431742, 'time_step': 0.002372449757121387}\u001b[0m \u001b[36mstep\u001b[0m=\u001b[35m69503\u001b[0m\n",
      "\u001b[2m2023-04-29 16:49:17\u001b[0m [\u001b[32m\u001b[1minfo     \u001b[0m] \u001b[1mModel parameters are saved to d3rlpy_logs/DiscreteBC_20230429164631/model_69503.pt\u001b[0m\n"
     ]
    },
    {
     "name": "stderr",
     "output_type": "stream",
     "text": [
      "Epoch 8/10: 100%|██████████| 9929/9929 [00:24<00:00, 412.05it/s, loss=0.443]\n"
     ]
    },
    {
     "name": "stdout",
     "output_type": "stream",
     "text": [
      "\u001b[2m2023-04-29 16:49:41\u001b[0m [\u001b[32m\u001b[1minfo     \u001b[0m] \u001b[1mDiscreteBC_20230429164631: epoch=8 step=79432\u001b[0m \u001b[36mepoch\u001b[0m=\u001b[35m8\u001b[0m \u001b[36mmetrics\u001b[0m=\u001b[35m{'time_sample_batch': 0.00018519307806095887, 'time_algorithm_update': 0.0020366612368209183, 'loss': 0.4428924752909775, 'time_step': 0.0023949766509637864}\u001b[0m \u001b[36mstep\u001b[0m=\u001b[35m79432\u001b[0m\n",
      "\u001b[2m2023-04-29 16:49:41\u001b[0m [\u001b[32m\u001b[1minfo     \u001b[0m] \u001b[1mModel parameters are saved to d3rlpy_logs/DiscreteBC_20230429164631/model_79432.pt\u001b[0m\n"
     ]
    },
    {
     "name": "stderr",
     "output_type": "stream",
     "text": [
      "Epoch 9/10: 100%|██████████| 9929/9929 [00:24<00:00, 410.65it/s, loss=0.443]\n"
     ]
    },
    {
     "name": "stdout",
     "output_type": "stream",
     "text": [
      "\u001b[2m2023-04-29 16:50:06\u001b[0m [\u001b[32m\u001b[1minfo     \u001b[0m] \u001b[1mDiscreteBC_20230429164631: epoch=9 step=89361\u001b[0m \u001b[36mepoch\u001b[0m=\u001b[35m9\u001b[0m \u001b[36mmetrics\u001b[0m=\u001b[35m{'time_sample_batch': 0.00018488197411183614, 'time_algorithm_update': 0.00204334519327029, 'loss': 0.44262860798682074, 'time_step': 0.002402957610246434}\u001b[0m \u001b[36mstep\u001b[0m=\u001b[35m89361\u001b[0m\n",
      "\u001b[2m2023-04-29 16:50:06\u001b[0m [\u001b[32m\u001b[1minfo     \u001b[0m] \u001b[1mModel parameters are saved to d3rlpy_logs/DiscreteBC_20230429164631/model_89361.pt\u001b[0m\n"
     ]
    },
    {
     "name": "stderr",
     "output_type": "stream",
     "text": [
      "Epoch 10/10: 100%|██████████| 9929/9929 [00:24<00:00, 411.79it/s, loss=0.442]\n"
     ]
    },
    {
     "name": "stdout",
     "output_type": "stream",
     "text": [
      "\u001b[2m2023-04-29 16:50:30\u001b[0m [\u001b[32m\u001b[1minfo     \u001b[0m] \u001b[1mDiscreteBC_20230429164631: epoch=10 step=99290\u001b[0m \u001b[36mepoch\u001b[0m=\u001b[35m10\u001b[0m \u001b[36mmetrics\u001b[0m=\u001b[35m{'time_sample_batch': 0.00018518808349308165, 'time_algorithm_update': 0.0020371756052752375, 'loss': 0.4424328913632471, 'time_step': 0.0023965705904623017}\u001b[0m \u001b[36mstep\u001b[0m=\u001b[35m99290\u001b[0m\n",
      "\u001b[2m2023-04-29 16:50:30\u001b[0m [\u001b[32m\u001b[1minfo     \u001b[0m] \u001b[1mModel parameters are saved to d3rlpy_logs/DiscreteBC_20230429164631/model_99290.pt\u001b[0m\n"
     ]
    }
   ],
   "source": [
    "bc_10 = train_bc(mem)"
   ]
  },
  {
   "cell_type": "code",
   "execution_count": 19,
   "metadata": {},
   "outputs": [],
   "source": [
    "def evaluate_d3rlpy_algo(cqlAgent, n_episodes=1000):\n",
    "\n",
    "\n",
    "    env = gym.make(\"CartPole-v1\")\n",
    "\n",
    "    rewards_over_episodes = []\n",
    "    for episode in tqdm(range(n_episodes)):\n",
    "       \n",
    "        episode_reward = []\n",
    "        \n",
    "        S, info = env.reset()\n",
    "        S = S[0],S[2]\n",
    "\n",
    "        done=False\n",
    "        while not done:\n",
    "            A = cqlAgent.predict(np.array([S]))\n",
    "\n",
    "            #print(A)\n",
    "\n",
    "            S_prime, reward, terminate, truncate, info = env.step(A[0])\n",
    "\n",
    "            done = terminate or truncate\n",
    "            S_prime = S_prime[0],S_prime[2]\n",
    "\n",
    "            episode_reward.append(reward)\n",
    "            S = S_prime\n",
    "\n",
    "        rewards_over_episodes.append(sum(episode_reward))\n",
    "    return rewards_over_episodes\n",
    "\n"
   ]
  },
  {
   "cell_type": "code",
   "execution_count": 20,
   "metadata": {},
   "outputs": [
    {
     "name": "stderr",
     "output_type": "stream",
     "text": [
      "100%|██████████| 1000/1000 [00:02<00:00, 374.56it/s]\n"
     ]
    }
   ],
   "source": [
    "rwds_bc_01 = evaluate_d3rlpy_algo(bc_01)"
   ]
  },
  {
   "cell_type": "code",
   "execution_count": 21,
   "metadata": {},
   "outputs": [
    {
     "name": "stderr",
     "output_type": "stream",
     "text": [
      "100%|██████████| 1000/1000 [00:03<00:00, 320.49it/s]\n",
      "100%|██████████| 1000/1000 [00:04<00:00, 202.35it/s]\n",
      "100%|██████████| 1000/1000 [00:05<00:00, 177.03it/s]\n",
      "100%|██████████| 1000/1000 [00:09<00:00, 105.39it/s]\n",
      "100%|██████████| 1000/1000 [00:05<00:00, 175.05it/s]\n",
      "100%|██████████| 1000/1000 [00:09<00:00, 106.76it/s]\n",
      "100%|██████████| 1000/1000 [00:02<00:00, 384.26it/s]\n",
      "100%|██████████| 1000/1000 [00:03<00:00, 277.59it/s]\n",
      "100%|██████████| 1000/1000 [00:03<00:00, 295.68it/s]\n"
     ]
    }
   ],
   "source": [
    "rwds_cql_01 = evaluate_d3rlpy_algo(cql_01)\n",
    "rwds_cql_10 = evaluate_d3rlpy_algo(cql_10)\n",
    "rwds_cql_11 = evaluate_d3rlpy_algo(cql_11)\n",
    "\n",
    "rwds_ddqn_01 = evaluate_d3rlpy_algo(ddqn_01)\n",
    "rwds_ddqn_10 = evaluate_d3rlpy_algo(ddqn_10)\n",
    "rwds_ddqn_11 = evaluate_d3rlpy_algo(ddqn_11)\n",
    "\n",
    "rwds_bc_01 = evaluate_d3rlpy_algo(bc_01)\n",
    "rwds_bc_11 = evaluate_d3rlpy_algo(bc_11)\n",
    "rwds_bc_10 = evaluate_d3rlpy_algo(bc_10)"
   ]
  },
  {
   "cell_type": "code",
   "execution_count": 22,
   "metadata": {},
   "outputs": [],
   "source": [
    "dt_10 = torch.load(\"decision_transformer.pt\")\n",
    "dt_11 = torch.load('decision_transformer_1_1.pt')\n",
    "dt_01 = torch.load('decision_transformer_0_1.pt')"
   ]
  },
  {
   "cell_type": "code",
   "execution_count": 23,
   "metadata": {},
   "outputs": [],
   "source": [
    "def preprocess(r_h,s_h,a_h):\n",
    "    def onehot( action):\n",
    "         x = np.zeros(2)\n",
    "         x[action]=1\n",
    "         return x\n",
    "    s_h_ = list(map(lambda x: list(reversed(x)), s_h))\n",
    "    a_h_ = list(map(lambda x: list(reversed(x)), a_h))\n",
    "    r_h_ = list(map(lambda x: list(reversed(x)), r_h))\n",
    "\n",
    "    a_h_ = list(map(lambda x: list(map(onehot, x)), a_h_))\n",
    "\n",
    "    return r_h_, s_h_, a_h_\n",
    "\n",
    "def eval_dt(dtAgent, n_episodes=1000, starting_reward = 600):\n",
    "\n",
    "    env = gym.make('CartPole-v1')\n",
    "\n",
    "    rewards_over_episodes = []\n",
    "    for episode in tqdm(range(n_episodes)):\n",
    "\n",
    "        episode_reward = 0\n",
    "        \n",
    "        S, info = env.reset()    \n",
    "        S = S[0], S[2]\n",
    "        done=False\n",
    "\n",
    "\n",
    "        a_h = [[]]\n",
    "        s_h = [[S]]\n",
    "        r_h = [[starting_reward]]\n",
    "\n",
    "\n",
    "\n",
    "        while not done:\n",
    "            \n",
    "            r,s,a = preprocess(r_h, s_h, a_h)\n",
    "            if len(a[0]) == 0:\n",
    "                \n",
    "                pi = dtAgent(r,s,[[np.zeros(2)]],1)\n",
    "            else:\n",
    "                pi = dtAgent(r,s,a,0)\n",
    "\n",
    "            A = Categorical(pi).sample().item()\n",
    "            s_prime, reward, terminate, truncate, info = env.step(A)\n",
    "            s_prime = s_prime[0], s_prime[2]\n",
    "            done = terminate or truncate\n",
    "\n",
    "            episode_reward+=reward\n",
    "            s_h[0].append(s_prime)\n",
    "            a_h[0].append(A)\n",
    "            r_h[0].append(r_h[0][-1]-reward)\n",
    "            \n",
    "        rewards_over_episodes.append(episode_reward)\n",
    "\n",
    "        \n",
    "\n",
    "    return rewards_over_episodes\n",
    "\n"
   ]
  },
  {
   "cell_type": "code",
   "execution_count": 24,
   "metadata": {},
   "outputs": [
    {
     "name": "stderr",
     "output_type": "stream",
     "text": [
      "  0%|          | 0/1000 [00:00<?, ?it/s]/Users/nathandelara/mcgill/u2/comp597-rl/final_project/fin_proj2/decision_transformer.py:81: UserWarning: Creating a tensor from a list of numpy.ndarrays is extremely slow. Please consider converting the list to a single numpy.ndarray with numpy.array() before converting to a tensor. (Triggered internally at /Users/runner/work/pytorch/pytorch/pytorch/torch/csrc/utils/tensor_new.cpp:248.)\n",
      "  a = Tensor(a)\n",
      "/Users/nathandelara/mcgill/u2/comp597-rl/final_project/fin_proj2/decision_transformer.py:123: UserWarning: Implicit dimension choice for softmax has been deprecated. Change the call to include dim=X as an argument.\n",
      "  output = F.softmax(output)\n",
      "100%|██████████| 1000/1000 [06:22<00:00,  2.62it/s]\n",
      "100%|██████████| 1000/1000 [04:09<00:00,  4.00it/s]\n",
      "100%|██████████| 1000/1000 [01:56<00:00,  8.59it/s]\n"
     ]
    }
   ],
   "source": [
    "rwds_dt_01 = eval_dt(dt_01)\n",
    "rwds_dt_11 = eval_dt(dt_11)\n",
    "rwds_dt_10 = eval_dt(dt_10)"
   ]
  },
  {
   "cell_type": "code",
   "execution_count": 29,
   "metadata": {},
   "outputs": [
    {
     "data": {
      "image/png": "[encoded data removed]",
      "text/plain": [
       "<Figure size 640x480 with 3 Axes>"
      ]
     },
     "metadata": {},
     "output_type": "display_data"
    }
   ],
   "source": [
    "fig, ax = plt.subplots(1,3)\n",
    "\n",
    "fig.suptitle(\"Comparison of Deep Offline RL methods in POMDP Settings\")\n",
    "\n",
    "ax[0].set_title(\"POMDP DDQN Dataset\")\n",
    "ax[1].set_title(\"Mixed Dataset\")\n",
    "ax[2].set_title(\"Fully Observing DDQN\")\n",
    "for i in range(3):\n",
    "\n",
    "    ax[i].set_xlabel(\"Algorithms\")\n",
    "    ax[i].set_ylabel(\"Average Test Score\")\n",
    "    ax[i].set_ylim([0,520])\n",
    "    ax[i].set_xlim([-1,7])\n",
    "    ax[i].hlines(500,-5,8,label=\"Perfect Performance Score\",colors=['red'])\n",
    "\n",
    "\n",
    "ax[0].bar(x=[i*2 for i in range(4)], height=[np.mean(rwds_dt_10), np.mean(rwds_cql_10), np.mean(rwds_ddqn_10), np.mean(rwds_bc_10)],color=['dodgerblue','orangered','violet','palegreen'], width=1)\n",
    "ax[1].bar(x =[i*2 for i in range(4)], height=[np.mean(rwds_dt_11), np.mean(rwds_cql_11), np.mean(rwds_ddqn_11), np.mean(rwds_bc_11)],color=['dodgerblue','orangered','violet','palegreen'], width=1)\n",
    "ax[2].bar(x =[i*2 for i in range(4)], height=[np.mean(rwds_dt_01), np.mean(rwds_cql_01),np.mean(rwds_ddqn_01), np.mean(rwds_bc_01)],color=['dodgerblue','orangered','violet','palegreen'], width=1)\n",
    "\n",
    "ax[0].set_xticks([i*2 for i in range(4)],['DT','CQL','DDQN','BC'], rotation=40)\n",
    "ax[1].set_xticks([i*2 for i in range(4)],['DT','CQL','DDQN','BC'],rotation=40)\n",
    "ax[2].set_xticks([i*2 for i in range(4)],['DT','CQL','DDQN','BC'],rotation=40)\n",
    "ax[2].legend(bbox_to_anchor=(1,-0.2))\n",
    "\n",
    "plt.tight_layout()\n",
    "\n",
    "plt.show()"
   ]
  },
  {
   "cell_type": "code",
   "execution_count": 30,
   "metadata": {},
   "outputs": [],
   "source": [
    "\n",
    "# code from answer here (https://stackoverflow.com/questions/57839665/how-to-set-a-openai-gym-environment-start-with-a-specific-state-not-the-env-res)\n",
    "from gymnasium.envs.classic_control.cartpole import CartPoleEnv\n",
    "from gym.wrappers.time_limit import TimeLimit\n",
    "class ExtendedCartPole(CartPoleEnv):\n",
    "\n",
    "    def reset_state(self, x):\n",
    "        self.state=x\n",
    "\n",
    "        self.steps_beyond_terminated=None\n",
    "        return self.state\n",
    "    \n",
    "start_state = [0,0,0.05,0]\n",
    "starting_reward = 600\n",
    "\n",
    "\n",
    "\n",
    "\n",
    "trajs = []\n",
    "\n",
    "models = [dt_11,cql_11, ddqn_11, bc_11]\n",
    "def sim_trajs_dt(dtAgent):\n",
    "\n",
    "    model_trajs = []\n",
    "    env = TimeLimit(ExtendedCartPole(), 500)\n",
    "\n",
    "\n",
    "\n",
    "    for episode in tqdm(range(100)):\n",
    "\n",
    "        episode_reward = 0\n",
    "\n",
    "        S, info = env.reset()  \n",
    "        S = env.reset_state(start_state)\n",
    "\n",
    "        S = S[0], S[2]\n",
    "        done=False\n",
    "\n",
    "\n",
    "        a_h = [[]]\n",
    "        s_h = [[S]]\n",
    "        r_h = [[starting_reward]]\n",
    "\n",
    "        episode_traj = []\n",
    "\n",
    "        while not done:\n",
    "            \n",
    "            r,s,a = preprocess(r_h, s_h, a_h)\n",
    "            if len(a[0]) == 0:\n",
    "                \n",
    "                pi = dtAgent(r,s,[[np.zeros(2)]],1)\n",
    "            else:\n",
    "                pi = dtAgent(r,s,a,0)\n",
    "\n",
    "            A = torch.argmax(pi).item()\n",
    "            s_prime, reward, terminate, truncate, info = env.step(A)\n",
    "            s_prime = s_prime[0], s_prime[2]\n",
    "            done = terminate or truncate\n",
    "\n",
    "            episode_reward+=reward\n",
    "            s_h[0].append(s_prime)\n",
    "            a_h[0].append(A)\n",
    "            r_h[0].append(r_h[0][-1]-reward)\n",
    "            episode_traj.append(s_h[0][-1][1])\n",
    "        model_trajs.append(episode_traj)\n",
    "\n",
    "    return model_trajs\n",
    "\n",
    "def sim_trajs_d3rl_algo(agent):\n",
    "\n",
    "    model_trajs=[]\n",
    "    rewards_over_episodes = []\n",
    "    for episode in tqdm(range(100)):\n",
    "        episode_trajs = []\n",
    "        env = TimeLimit(ExtendedCartPole(), 500)\n",
    "\n",
    "        S, info = env.reset()\n",
    "        S = env.reset_state(start_state)\n",
    "        \n",
    "        episode_trajs.append(S[2])\n",
    "        S = S[0], S[2]\n",
    "        done=False\n",
    "        while not done:\n",
    "            A = agent.predict(np.array([S]))\n",
    "\n",
    "            #print(A)\n",
    "\n",
    "            S_prime, reward, terminate, truncate, info = env.step(A[0])\n",
    "\n",
    "            done = terminate or truncate\n",
    "            S_prime = S_prime[0],S_prime[2]\n",
    "\n",
    "            episode_trajs.append(S_prime[1])\n",
    "            S = S_prime\n",
    "        model_trajs.append(episode_trajs)\n",
    "\n",
    "\n",
    "    return model_trajs"
   ]
  },
  {
   "cell_type": "code",
   "execution_count": 31,
   "metadata": {},
   "outputs": [
    {
     "name": "stderr",
     "output_type": "stream",
     "text": [
      "100%|██████████| 100/100 [00:00<00:00, 387.75it/s]\n",
      "100%|██████████| 100/100 [00:01<00:00, 78.05it/s]\n",
      "100%|██████████| 100/100 [00:00<00:00, 256.29it/s]\n",
      "100%|██████████| 100/100 [00:41<00:00,  2.39it/s]\n"
     ]
    }
   ],
   "source": [
    "traj_bc = sim_trajs_d3rl_algo(bc_01)\n",
    "traj_ddqn = sim_trajs_d3rl_algo(ddqn_01)\n",
    "traj_cql = sim_trajs_d3rl_algo(cql_01)\n",
    "traj_dt = sim_trajs_dt(dt_01)"
   ]
  },
  {
   "cell_type": "code",
   "execution_count": 32,
   "metadata": {},
   "outputs": [
    {
     "data": {
      "image/png": "[encoded data removed]",
      "text/plain": [
       "<Figure size 640x480 with 4 Axes>"
      ]
     },
     "metadata": {},
     "output_type": "display_data"
    }
   ],
   "source": [
    "fig, ax = plt.subplots(2,2)\n",
    "from itertools import product\n",
    "for i0,i1 in product(list(range(2)), list(range(2))):\n",
    "    ax[i0,i1].spines['left'].set_position('center')\n",
    "    #ax[i0,i1].spines['bottom'].set_position('center')\n",
    "    ax[i0,i1].spines['right'].set_color('none')\n",
    "    ax[i0,i1].spines['top'].set_color('none')\n",
    "    ax[i0,i1].set_xlim([-0.4,0.4])\n",
    "    ax[i0,i1].set_ylim([0,200])\n",
    "    ax[i0,i1].set_xlabel(\"Angle\")\n",
    "    ax[i0,i1].set_ylabel(\"Time\")\n",
    "    ax[i0,i1].vlines(x=[-0.2,0.2],ymin=0,ymax=200,label='Termination threshold',colors=['red','red'])\n",
    "   \n",
    "fig.suptitle(\"Angle of Pole Over Episode For Each Algorithm With Set Start State\")\n",
    "ax[0,0].set_title('Decision Transformer Trajectories')\n",
    "ax[0,1].set_title('CQL Trajectories')\n",
    "ax[1,0].set_title('DDQN  Trajectories')\n",
    "ax[1,1].set_title('BC Trajectories')\n",
    "ax[1,1].legend(bbox_to_anchor=(1,-0.4))\n",
    "\n",
    "for traj in traj_dt:\n",
    "    ax[0,0].plot(traj,np.linspace(0,len(traj),len(traj)),alpha=0.3,color='blue')\n",
    "for traj in traj_cql:\n",
    "    ax[0,1].plot(traj, np.linspace(0,len(traj),len(traj)), alpha=0.3,color='blue')\n",
    "for traj in traj_ddqn:\n",
    "    ax[1,0].plot(traj, np.linspace(0,len(traj),len(traj)),alpha=0.3,color='blue')\n",
    "for traj in traj_bc:\n",
    "    ax[1,1].plot(traj, np.linspace(0,len(traj),len(traj)),alpha=0.3,color='blue')\n",
    "plt.tight_layout()\n",
    "plt.show()"
   ]
  },
  {
   "cell_type": "code",
   "execution_count": null,
   "metadata": {},
   "outputs": [],
   "source": []
  }
 ],
 "metadata": {
  "kernelspec": {
   "display_name": "venv",
   "language": "python",
   "name": "python3"
  },
  "language_info": {
   "codemirror_mode": {
    "name": "ipython",
    "version": 3
   },
   "file_extension": ".py",
   "mimetype": "text/x-python",
   "name": "python",
   "nbconvert_exporter": "python",
   "pygments_lexer": "ipython3",
   "version": "3.8.8"
  },
  "orig_nbformat": 4
 },
 "nbformat": 4,
 "nbformat_minor": 2
}
